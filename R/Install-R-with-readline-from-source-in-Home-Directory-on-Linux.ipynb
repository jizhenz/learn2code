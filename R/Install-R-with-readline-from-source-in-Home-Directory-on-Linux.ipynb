{
 "cells": [
  {
   "cell_type": "markdown",
   "metadata": {},
   "source": [
    "<table align=\"left\" style=\"border-style: hidden; border-collapse: collapse;\">\n",
    "\n",
    "<tr style=\"border-style: hidden; border-collapse: collapse;\"><td><br><br><b>Directories:</b><br></td></tr>\n",
    "\n",
    "<tr><td>\n",
    "<table align=\"left\">\n",
    "<tr><td>`$`HOME</td><td>/home/YourLogin</td></tr>\n",
    "<tr><td>`$`HOME/local</td><td>Binaries: executables, libraries, header files, etc.</td></tr>\n",
    "<tr><td>`$`HOME/download</td><td>files downloaded</td></tr>\n",
    "</table>\n",
    "</td></tr>\n",
    "\n",
    "<tr style=\"border-style: hidden; border-collapse: collapse;\"><td><br><br><b>Install readline locally in `$`HOME folder </b><br></td></tr>\n",
    "\n",
    "<tr><td>\n",
    "<table align=\"left\">\n",
    "<tr><td>cd `$`HOME/ling/src/</td><td></td></tr>\n",
    "<tr><td>mkdir readline</td><td></td></tr>\n",
    "<tr><td>cd readline</td><td></td></tr>\n",
    "<tr><td>yumdownloader readline-devel</td><td>Get:<br>\n",
    "readline-devel-6.0-4.el6.i686.rpm<br>\n",
    "readline-devel-6.0-4.el6.x86_64.rpm</td></tr>\n",
    "<tr><td>rpm2cpio readline-devel-6.0-4.el6.x86_64.rpm | cpio -idmv</td><td>Extract into `$`HOME/ling/src/readline/usr<br>\n",
    "--usr<br>\n",
    "&nbsp;&nbsp;&nbsp;|--include<br>\n",
    "&nbsp;&nbsp;&nbsp;|--lib64<br>\n",
    "&nbsp;&nbsp;&nbsp;|--share</td></tr>\n",
    "<tr><td>mv usr/include/readline `$`HOME/local/include</td><td></td></tr>\n",
    "<tr><td>mv usr/include/share `$`HOME/local/share</td><td></td></tr>\n",
    "<tr><td>ls -alF usr/lib64/</td><td>libhistory.so -> libhistory.so.6<br>\n",
    "libreadline.so -> ../../lib64/libreadline.so.6</td></tr>\n",
    "<tr><td>ln –s /usr/lib64/ libhistory.so.6 `$`HOME/local/libhistory.so</td><td></td></tr>\n",
    "<tr><td>ln –s /lib64/ libreadline.so.6 `$`HOME/local/libreadline.so</td><td></td></tr>\n",
    "<tr><td>export PATH=`$`HOME/local/bin:`$`PATH<br>\n",
    "export LD_LIBRARY_PATH=`$`HOME/local/lib:`$`HOME/local/lib64:`$`LD_LIBRARY_PATH</td><td>Add in `$`HOME/.bash_profile</td></tr>\n",
    "</table>\n",
    "</td></tr>\n",
    "\n",
    "</td></tr>\n",
    "<tr style=\"border-style: hidden; border-collapse: collapse;\"><td><br><br><b>Install R 3.1.1</b><br></td></tr>\n",
    "\n",
    "<tr><td>\n",
    "<table align=\"left\">\n",
    "<tr><td>cd `$`HOME/download/R-3.1.1</td><td>R source already downloaded</td></tr>\n",
    "<tr><td>CXXFLAGS=\"-ggdb -pipe -Wall -pedantic –I`$`HOME/local/include\" \\\\ <br>\n",
    "CPPFLAGS=\"-I`$`HOME/local/include\" \\\\ <br>\n",
    "LDFLAGS=\"-L`$`HOME/local/lib64\" \\\\ <br>\n",
    "./configure –prefix=`$`HOME/local –with-x=no</td><td>--with-readline=yes (default)<br>\n",
    "Set with-x=no<br>since it depends on more libraries and <br>remote running of R do not need X</td></tr>\n",
    "<tr><td>make</td><td></td></tr>\n",
    "<tr><td>make check-all</td><td>test</td></tr>\n",
    "<tr><td>make install</td><td></td></tr>\n",
    "<tr><td>R</td><td>Try R</td></tr>\n",
    "<tr><td>Rscript</td><td>Try Rscript</td></tr>\n",
    "</table>\n",
    "</td></tr>\n",
    "\n",
    "<tr style=\"border-style: hidden; border-collapse: collapse;\"><td>\n",
    "Reference:\n",
    "https://cran.r-project.org/doc/manuals/r-release/R-admin.html#Installation\n",
    "</td></tr>\n",
    "</table>\n",
    "\t\n",
    "\t\n",
    "\t\n",
    "\t\n",
    "\t\n",
    "\t\n",
    "\n"
   ]
  },
  {
   "cell_type": "code",
   "execution_count": null,
   "metadata": {
    "collapsed": true
   },
   "outputs": [],
   "source": []
  }
 ],
 "metadata": {
  "kernelspec": {
   "display_name": "Python 2",
   "language": "python",
   "name": "python2"
  },
  "language_info": {
   "codemirror_mode": {
    "name": "ipython",
    "version": 2
   },
   "file_extension": ".py",
   "mimetype": "text/x-python",
   "name": "python",
   "nbconvert_exporter": "python",
   "pygments_lexer": "ipython2",
   "version": "2.7.11"
  }
 },
 "nbformat": 4,
 "nbformat_minor": 0
}
