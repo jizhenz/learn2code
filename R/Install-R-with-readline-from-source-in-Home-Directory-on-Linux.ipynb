{
 "cells": [
  {
   "cell_type": "markdown",
   "metadata": {},
   "source": [
    "<table align=\"left\" style=\"border-style: hidden; border-collapse: collapse;\">\n",
    "\n",
    "<tr style=\"border-style: hidden; border-collapse: collapse;\"><td><br><br><b>Directories:</b><br></td></tr>\n",
    "\n",
    "<tr><td>\n",
    "<table align=\"left\">\n",
    "<tr><td>&#36;HOME</td><td>/home/YourLogin</td></tr>\n",
    "<tr><td>&#36;HOME/local</td><td>Binaries&#58; executables, libraries, header files, etc.</td></tr>\n",
    "<tr><td>&#36;HOME/download</td><td>files downloaded</td></tr>\n",
    "</table>\n",
    "</td></tr>\n",
    "\n",
    "<tr style=\"border-style: hidden; border-collapse: collapse;\"><td><br><br><b>Install readline locally in &#36;HOME folder </b><br></td></tr>\n",
    "\n",
    "<tr><td>\n",
    "<table align=\"left\">\n",
    "<tr><td>cd &#36;HOME/ling/src/</td><td></td></tr>\n",
    "<tr><td>mkdir readline</td><td></td></tr>\n",
    "<tr><td>cd readline</td><td></td></tr>\n",
    "<tr><td>yumdownloader readline-devel</td><td>Get&#58;<br>\n",
    "readline-devel-6.0-4.el6.i686.rpm<br>\n",
    "readline-devel-6.0-4.el6.x86_64.rpm</td></tr>\n",
    "<tr><td>rpm2cpio readline-devel-6.0-4.el6.x86_64.rpm | cpio -idmv</td><td>Extract into &#36;HOME/ling/src/readline/usr<br>\n",
    "--usr<br>\n",
    "&nbsp;&nbsp;&nbsp;|--include<br>\n",
    "&nbsp;&nbsp;&nbsp;|--lib64<br>\n",
    "&nbsp;&nbsp;&nbsp;|--share</td></tr>\n",
    "<tr><td>mv usr/include/readline &#36;HOME/local/include</td><td></td></tr>\n",
    "<tr><td>mv usr/include/share &#36;HOME/local/share</td><td></td></tr>\n",
    "<tr><td>ls -alF usr/lib64/</td><td>libhistory.so -> libhistory.so.6<br>\n",
    "libreadline.so -> ../../lib64/libreadline.so.6</td></tr>\n",
    "<tr><td>ln –s /usr/lib64/ libhistory.so.6 &#36;HOME/local/libhistory.so</td><td></td></tr>\n",
    "<tr><td>ln –s /lib64/ libreadline.so.6 &#36;HOME/local/libreadline.so</td><td></td></tr>\n",
    "<tr><td><p>export PATH`=$`HOME/local/bin`:$`PATH</p>\n",
    "<p>export LD_LIBRARY_PATH`=$`HOME/local/lib`:$`HOME/local/lib64`:$`LD_LIBRARY_PATH</p></td>\n",
    "<td>Add in $HOME/.bash_profile</td></tr>\n",
    "</table>\n",
    "</td></tr>\n",
    "\n",
    "</td></tr>\n",
    "<tr style=\"border-style: hidden; border-collapse: collapse;\"><td><br><br><b>Install R 3.1.1</b><br></td></tr>\n",
    "\n",
    "<tr><td>\n",
    "<table align=\"left\">\n",
    "<tr><td>cd &#36;HOME/download/R-3.1.1</td><td>R source already downloaded</td></tr>\n",
    "<tr><td><p>CXXFLAGS=\"-ggdb -pipe -Wall -pedantic –I$HOME/local/include\" &#92; </P>\n",
    "<p>CPPFLAGS&#61;\"-I&#36;HOME/local/include\" &#92;</P>\n",
    "<p>LDFLAGS&#61;\"-L&#36;HOME/local/lib64\" &#92;</P>\n",
    "<P>./configure –prefix&#61;&#36;HOME/local –with-x&#61;no</p></td>\n",
    "<td>--with-readline&#61;yes (default)<br>Set with-x&#61;no<br>since it depends on more libraries and <br>remote running of R do not need X</td></tr>\n",
    "<tr><td>make</td><td></td></tr>\n",
    "<tr><td>make check-all</td><td>test</td></tr>\n",
    "<tr><td>make install</td><td></td></tr>\n",
    "<tr><td>R</td><td>Try R</td></tr>\n",
    "<tr><td>Rscript</td><td>Try Rscript</td></tr>\n",
    "<tr><td colspan=\"2\">Reference&#58;<br>\n",
    "https://cran.r-project.org/doc/manuals/r-release/R-admin.html#Installation</td></tr>\n",
    "</table>\n",
    "</td></tr>\n",
    "\n",
    "</table>\n",
    "\t\n",
    "\t\n",
    "\t\n",
    "\t\n",
    "\t\n",
    "\t\n",
    "\n"
   ]
  },
  {
   "cell_type": "code",
   "execution_count": null,
   "metadata": {
    "collapsed": true
   },
   "outputs": [],
   "source": []
  }
 ],
 "metadata": {
  "kernelspec": {
   "display_name": "Python 2",
   "language": "python",
   "name": "python2"
  },
  "language_info": {
   "codemirror_mode": {
    "name": "ipython",
    "version": 2
   },
   "file_extension": ".py",
   "mimetype": "text/x-python",
   "name": "python",
   "nbconvert_exporter": "python",
   "pygments_lexer": "ipython2",
   "version": "2.7.11"
  }
 },
 "nbformat": 4,
 "nbformat_minor": 0
}
