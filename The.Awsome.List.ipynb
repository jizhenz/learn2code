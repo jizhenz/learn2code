{
 "cells": [
  {
   "cell_type": "markdown",
   "metadata": {},
   "source": [
    "# List of Awesome Lists\n",
    "https://github.com/sindresorhus/awesome\n",
    "\n",
    "# Awesome Python\n",
    "https://github.com/vinta/awesome-python\n",
    "\n",
    "#### Awesome Flask\n",
    "https://github.com/humiaozuzu/awesome-flask\n",
    "\n",
    "# Awesome C++\n",
    "https://github.com/fffaraz/awesome-cpp\n",
    "\n",
    "# Awesome R\n",
    "https://github.com/qinwf/awesome-R\n",
    "\n",
    "# Awesome Data Science\n",
    "https://github.com/okulbilisim/awesome-datascience\n",
    "\n",
    "# Awesome Algorithms\n",
    "https://github.com/tayllan/awesome-algorithms\n"
   ]
  }
 ],
 "metadata": {
  "kernelspec": {
   "display_name": "Python 3",
   "language": "python",
   "name": "python3"
  },
  "language_info": {
   "codemirror_mode": {
    "name": "ipython",
    "version": 3
   },
   "file_extension": ".py",
   "mimetype": "text/x-python",
   "name": "python",
   "nbconvert_exporter": "python",
   "pygments_lexer": "ipython3",
   "version": "3.4.3"
  }
 },
 "nbformat": 4,
 "nbformat_minor": 0
}
