{
 "cells": [
  {
   "cell_type": "markdown",
   "metadata": {},
   "source": [
    "# Bare.Star.in.Python.3\n",
    "\n",
    "Sources: \n",
    "\n",
    "http://stackoverflow.com/questions/14301967/python-bare-asterisk-in-function-argument\n",
    "\n",
    "http://stackoverflow.com/a/14298976/180174\n",
    "\n",
    "http://docs.python.org/3/reference/compound_stmts.html#function-definitions    "
   ]
  },
  {
   "cell_type": "code",
   "execution_count": 1,
   "metadata": {
    "collapsed": false
   },
   "outputs": [
    {
     "name": "stdout",
     "output_type": "stream",
     "text": [
      "10 Must use named argument\n"
     ]
    }
   ],
   "source": [
    "def foo(pos, *, forcenamed):\n",
    "   print(pos, forcenamed)\n",
    "foo(pos=10,forcenamed='Must use named argument')"
   ]
  },
  {
   "cell_type": "code",
   "execution_count": 2,
   "metadata": {
    "collapsed": false
   },
   "outputs": [
    {
     "name": "stdout",
     "output_type": "stream",
     "text": [
      "10 Must use named argument\n"
     ]
    }
   ],
   "source": [
    "foo(10,forcenamed='Must use named argument')"
   ]
  },
  {
   "cell_type": "code",
   "execution_count": 3,
   "metadata": {
    "collapsed": false
   },
   "outputs": [
    {
     "ename": "TypeError",
     "evalue": "foo() takes 1 positional argument but 2 were given",
     "output_type": "error",
     "traceback": [
      "\u001b[1;31m---------------------------------------------------------------------------\u001b[0m",
      "\u001b[1;31mTypeError\u001b[0m                                 Traceback (most recent call last)",
      "\u001b[1;32m<ipython-input-3-96358e0bb0f4>\u001b[0m in \u001b[0;36m<module>\u001b[1;34m()\u001b[0m\n\u001b[1;32m----> 1\u001b[1;33m \u001b[0mfoo\u001b[0m\u001b[1;33m(\u001b[0m\u001b[1;36m10\u001b[0m\u001b[1;33m,\u001b[0m\u001b[1;34m'Must use named argument'\u001b[0m\u001b[1;33m)\u001b[0m \u001b[1;31m# will raise error\u001b[0m\u001b[1;33m\u001b[0m\u001b[0m\n\u001b[0m",
      "\u001b[1;31mTypeError\u001b[0m: foo() takes 1 positional argument but 2 were given"
     ]
    }
   ],
   "source": [
    "foo(10,'Must use named argument') # will raise error"
   ]
  },
  {
   "cell_type": "code",
   "execution_count": 4,
   "metadata": {
    "collapsed": false
   },
   "outputs": [
    {
     "name": "stdout",
     "output_type": "stream",
     "text": [
      "default0 default1 default2\n"
     ]
    }
   ],
   "source": [
    "def foo(*, arg0=\"default0\", arg1=\"default1\", arg2=\"default2\"):\n",
    "    # force people to use keyword arguments\n",
    "    print(arg0, arg1, arg2)\n",
    "foo()"
   ]
  },
  {
   "cell_type": "code",
   "execution_count": 6,
   "metadata": {
    "collapsed": false
   },
   "outputs": [
    {
     "name": "stdout",
     "output_type": "stream",
     "text": [
      "1 2 3\n"
     ]
    }
   ],
   "source": [
    "foo(arg0='0',arg1='1',arg2='2')"
   ]
  },
  {
   "cell_type": "code",
   "execution_count": 18,
   "metadata": {
    "collapsed": false
   },
   "outputs": [
    {
     "name": "stdout",
     "output_type": "stream",
     "text": [
      "0 1 2\n"
     ]
    }
   ],
   "source": [
    "def foo(**kwargs):\n",
    "    if 'arg0' in kwargs and 'arg1' in kwargs and 'arg2' in kwargs:\n",
    "        # but you'd have some extra work to make sure only valid names are passed in\n",
    "        # also cannot specify default values\n",
    "        print(kwargs['arg0'], kwargs['arg1'], kwargs['arg2'])\n",
    "args = {'arg0': \"0\", 'arg1':\"1\", 'arg2':\"2\"}\n",
    "foo(**args)        "
   ]
  },
  {
   "cell_type": "code",
   "execution_count": null,
   "metadata": {
    "collapsed": true
   },
   "outputs": [],
   "source": []
  }
 ],
 "metadata": {
  "kernelspec": {
   "display_name": "Python 3",
   "language": "python",
   "name": "python3"
  },
  "language_info": {
   "codemirror_mode": {
    "name": "ipython",
    "version": 3
   },
   "file_extension": ".py",
   "mimetype": "text/x-python",
   "name": "python",
   "nbconvert_exporter": "python",
   "pygments_lexer": "ipython3",
   "version": "3.4.3"
  }
 },
 "nbformat": 4,
 "nbformat_minor": 0
}
