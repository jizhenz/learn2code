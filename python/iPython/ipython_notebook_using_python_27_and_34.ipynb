{
 "cells": [
  {
   "cell_type": "markdown",
   "metadata": {},
   "source": [
    "# Using both Python 2.x and Python 3.x in iPython Notebook"
   ]
  },
  {
   "cell_type": "markdown",
   "metadata": {},
   "source": [
    "conda create -n py27 python=2.7\n",
    "\n",
    "source activate py27 :: source is NOT used on windows\n",
    "\n",
    "conda install ipython-notebook\n",
    "\n",
    "npm install -g ijavascript :: add node.js kernel\n",
    "\n",
    "ipython kernelspec install-self\n",
    "\n",
    "deactivate\n",
    "\n",
    "conda create -n py34 python=3.4\n",
    "\n",
    "[source] activate py34 :: source is NOT used on windows\n",
    "\n",
    "conda install ipython-notebook\n",
    "\n",
    "ipython kernelspec install-self\n",
    "\n",
    "deactivate\n",
    "\n",
    "ipython notebook \n",
    "\n",
    "    :: python 2 and 3 both will be available in the notebook\n",
    "    :: this is used to invoke ipython notebook (jupyter notebook for newer versions)\n"
   ]
  },
  {
   "cell_type": "markdown",
   "metadata": {},
   "source": [
    "# Reference\n",
    "http://stackoverflow.com/questions/30492623/using-both-python-2-x-and-python-3-x-in-ipython-notebook\n",
    "\n",
    "Conda - manage environment\n",
    "- http://conda.pydata.org/docs/using/envs.html"
   ]
  },
  {
   "cell_type": "code",
   "execution_count": null,
   "metadata": {
    "collapsed": true
   },
   "outputs": [],
   "source": []
  }
 ],
 "metadata": {
  "kernelspec": {
   "display_name": "Python 3",
   "language": "python",
   "name": "python3"
  },
  "language_info": {
   "codemirror_mode": {
    "name": "ipython",
    "version": 3
   },
   "file_extension": ".py",
   "mimetype": "text/x-python",
   "name": "python",
   "nbconvert_exporter": "python",
   "pygments_lexer": "ipython3",
   "version": "3.4.3"
  }
 },
 "nbformat": 4,
 "nbformat_minor": 0
}
