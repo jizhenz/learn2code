{
 "cells": [
  {
   "cell_type": "markdown",
   "metadata": {},
   "source": [
    "## 4. [Execution model](https://docs.python.org/2/reference/executionmodel.html)\n",
    "\n",
    "### 4.1 Naming and binding\n",
    "\n",
    "- **Names** refer to objects. \n",
    "\n",
    "    - Names are introduced by name **binding** operations. \n",
    "    \n",
    "    - Each occurrence of a name in the program text refers to the **binding** of that name established in the innermost function **block** containing the use.\n",
    "    \n",
    "    \n",
    "- A **block** is a piece of Python program text that is executed as a unit. The following are blocks: \n",
    "\n",
    "    - a module, \n",
    "    - a function body, and \n",
    "    - a class definition. \n",
    "    - Each command typed interactively\n",
    "    - A script file \n",
    "    - A script command (a command specified on the interpreter command line with the **‘-c‘** option) \n",
    "    - The file read by the built-in function **execfile() **\n",
    "    - The string argument passed to the built-in function **eval()** and to the **exec** statement\n",
    "    - The expression read and evaluated by the built-in function **input()** is a code block.\n",
    "    \n",
    "    \n",
    "- A code block is executed in an **execution frame**. \n",
    "\n",
    "    - A frame contains some administrative information (used for debugging) and \n",
    "    - determines where and how execution continues after the code block’s execution has completed.\n",
    "    \n",
    "    \n",
    "- A **scope** defines the visibility of a name within a block. \n",
    "\n",
    "    - A **local variable** defined in a block:\n",
    "        - its scope includes that block. \n",
    "        - If the definition occurs in a **function block**, the scope extends to any blocks contained within the defining one, \n",
    "        - unless a contained block introduces a different binding for the name. \n",
    "    - The scope of names defined in a **class block** is limited to the class block; \n",
    "        - it does not extend to the code blocks of methods \n",
    "            – this includes generator expressions since they are implemented using a function scope. \n",
    "        - This means that the following will fail:"
   ]
  },
  {
   "cell_type": "code",
   "execution_count": 2,
   "metadata": {
    "collapsed": false
   },
   "outputs": [
    {
     "ename": "NameError",
     "evalue": "global name 'a' is not defined",
     "output_type": "error",
     "traceback": [
      "\u001b[1;31m---------------------------------------------------------------------------\u001b[0m",
      "\u001b[1;31mNameError\u001b[0m                                 Traceback (most recent call last)",
      "\u001b[1;32m<ipython-input-2-c6ce870ca581>\u001b[0m in \u001b[0;36m<module>\u001b[1;34m()\u001b[0m\n\u001b[1;32m----> 1\u001b[1;33m \u001b[1;32mclass\u001b[0m \u001b[0mA\u001b[0m\u001b[1;33m:\u001b[0m\u001b[1;33m\u001b[0m\u001b[0m\n\u001b[0m\u001b[0;32m      2\u001b[0m     \u001b[0ma\u001b[0m \u001b[1;33m=\u001b[0m \u001b[1;36m42\u001b[0m\u001b[1;33m\u001b[0m\u001b[0m\n\u001b[0;32m      3\u001b[0m     \u001b[0mb\u001b[0m \u001b[1;33m=\u001b[0m \u001b[0mlist\u001b[0m\u001b[1;33m(\u001b[0m\u001b[0ma\u001b[0m \u001b[1;33m+\u001b[0m \u001b[0mi\u001b[0m \u001b[1;32mfor\u001b[0m \u001b[0mi\u001b[0m \u001b[1;32min\u001b[0m \u001b[0mrange\u001b[0m\u001b[1;33m(\u001b[0m\u001b[1;36m10\u001b[0m\u001b[1;33m)\u001b[0m\u001b[1;33m)\u001b[0m \u001b[1;31m# NameError: global name 'a' is not defined\u001b[0m\u001b[1;33m\u001b[0m\u001b[0m\n",
      "\u001b[1;32m<ipython-input-2-c6ce870ca581>\u001b[0m in \u001b[0;36mA\u001b[1;34m()\u001b[0m\n\u001b[0;32m      1\u001b[0m \u001b[1;32mclass\u001b[0m \u001b[0mA\u001b[0m\u001b[1;33m:\u001b[0m\u001b[1;33m\u001b[0m\u001b[0m\n\u001b[0;32m      2\u001b[0m     \u001b[0ma\u001b[0m \u001b[1;33m=\u001b[0m \u001b[1;36m42\u001b[0m\u001b[1;33m\u001b[0m\u001b[0m\n\u001b[1;32m----> 3\u001b[1;33m     \u001b[0mb\u001b[0m \u001b[1;33m=\u001b[0m \u001b[0mlist\u001b[0m\u001b[1;33m(\u001b[0m\u001b[0ma\u001b[0m \u001b[1;33m+\u001b[0m \u001b[0mi\u001b[0m \u001b[1;32mfor\u001b[0m \u001b[0mi\u001b[0m \u001b[1;32min\u001b[0m \u001b[0mrange\u001b[0m\u001b[1;33m(\u001b[0m\u001b[1;36m10\u001b[0m\u001b[1;33m)\u001b[0m\u001b[1;33m)\u001b[0m \u001b[1;31m# NameError: global name 'a' is not defined\u001b[0m\u001b[1;33m\u001b[0m\u001b[0m\n\u001b[0m",
      "\u001b[1;32m<ipython-input-2-c6ce870ca581>\u001b[0m in \u001b[0;36m<genexpr>\u001b[1;34m((i,))\u001b[0m\n\u001b[0;32m      1\u001b[0m \u001b[1;32mclass\u001b[0m \u001b[0mA\u001b[0m\u001b[1;33m:\u001b[0m\u001b[1;33m\u001b[0m\u001b[0m\n\u001b[0;32m      2\u001b[0m     \u001b[0ma\u001b[0m \u001b[1;33m=\u001b[0m \u001b[1;36m42\u001b[0m\u001b[1;33m\u001b[0m\u001b[0m\n\u001b[1;32m----> 3\u001b[1;33m     \u001b[0mb\u001b[0m \u001b[1;33m=\u001b[0m \u001b[0mlist\u001b[0m\u001b[1;33m(\u001b[0m\u001b[0ma\u001b[0m \u001b[1;33m+\u001b[0m \u001b[0mi\u001b[0m \u001b[1;32mfor\u001b[0m \u001b[0mi\u001b[0m \u001b[1;32min\u001b[0m \u001b[0mrange\u001b[0m\u001b[1;33m(\u001b[0m\u001b[1;36m10\u001b[0m\u001b[1;33m)\u001b[0m\u001b[1;33m)\u001b[0m \u001b[1;31m# NameError: global name 'a' is not defined\u001b[0m\u001b[1;33m\u001b[0m\u001b[0m\n\u001b[0m",
      "\u001b[1;31mNameError\u001b[0m: global name 'a' is not defined"
     ]
    }
   ],
   "source": [
    "class A:\n",
    "    a = 42\n",
    "    b = list(a + i for i in range(10)) # NameError: global name 'a' is not defined"
   ]
  },
  {
   "cell_type": "markdown",
   "metadata": {},
   "source": [
    "- When a name is used in a code block, it is resolved using the **nearest** enclosing scope. \n",
    "- The set of all such scopes visible to a code block is called the block’s **environment**.\n",
    "\n",
    "    - If a name is bound in a block, it is a **local** variable of that block. \n",
    "\n",
    "    - If a name is bound at the module level, it is a **global** variable. \n",
    "        - (The variables of the module code block are *local and global*.) \n",
    "\n",
    "    - If a variable is used in a code block but not defined there, it is a **free** variable."
   ]
  },
  {
   "cell_type": "code",
   "execution_count": 17,
   "metadata": {
    "collapsed": false
   },
   "outputs": [
    {
     "name": "stdout",
     "output_type": "stream",
     "text": [
      "0\n",
      "{}\n",
      "\n",
      "1\n",
      "{'x': 1}\n",
      "\n",
      "42\n",
      "{}\n",
      "\n"
     ]
    }
   ],
   "source": [
    "x = 0\n",
    "def foo():\n",
    "    print(x)            # x is a global variable\n",
    "    print(locals())\n",
    "foo()\n",
    "\n",
    "print\n",
    "\n",
    "def bar():\n",
    "    x = 1               # x is a bound variable\n",
    "    def foo():\n",
    "        print(x)        # x is a free variable\n",
    "        print(locals())\n",
    "    foo()\n",
    "bar()\n",
    "\n",
    "print\n",
    "\n",
    "x = 42\n",
    "def foo():\n",
    "    global x\n",
    "    def baz():\n",
    "        print(x)        # x is a FREE GLOBAL variable\n",
    "        print(locals())\n",
    "    baz()\n",
    "foo()\n",
    "\n",
    "\"\"\"\n",
    "\n",
    "http://stackoverflow.com/questions/12919278/how-to-define-free-variable-in-python\n",
    "\n",
    "From what I have understood the documentation is indeed a bit ambiguous on free variables. \n",
    "There are free global variables which are treated as plain globals and lexically bound free variables.\n",
    "Eli Bendersky sum's it up nicely in a blog post on symbol tables:\n",
    "\n",
    "\n",
    "    Unfortunately, there's a shorthand in the core of Python that may initially confuse readers as to exactly \n",
    "    what constitutes a \"free\" variable. Fortunately, it's a very slight confusion that's easy to put in order. \n",
    "    The execution model reference says:\n",
    "\n",
    "        If a variable is used in a code block but not defined there, it is a free variable.\n",
    "        \n",
    "    This is consistent with the formal definition. In the source, however, \"free\" is actually used as a shorthand for \n",
    "    \"lexically bound free variable\" (i.e. variables for which a binding has been found in an enclosing scope), with \n",
    "    \"global\" being used to refer to all remaining free variables. So when reading the CPython source code it is \n",
    "    important to remember that the full set of free variables includes both \n",
    "    \n",
    "        the variables tagged specifically as \"free\", as well as \n",
    "        those tagged as \"global\".\n",
    "\n",
    "    Thus, to avoid a confusion I say \"lexically bound\" when I want to refer to the variables actually treated in \n",
    "    CPython as free.\n",
    "\n",
    "\n",
    "The reason why this shorthand was used is probably because when you have a global free variable there's really no change \n",
    "whatsoever in the bytecode emitted. If a global variable is 'free' or if it isn't doesn't change the fact that the \n",
    "look-up for that name will use LOAD_GLOBAL in both cases. So global free variables aren't all that special.\n",
    "\n",
    "On the other hand, lexically bound variables are treated specially and are enclosed in cell objects, the objects are \n",
    "the storage space for lexically bound free variables and are located in the __closure__ attribute for a given function. \n",
    "A special LOAD_DEREF instruction is created for these that examines the cells present for the free variables. \n",
    "The description for the LOAD_DEREF instruction is:\n",
    "\n",
    "\n",
    "    LOAD_DEREF(i)\n",
    "    Loads the cell contained in slot i of the cell and free variable storage\n",
    "\n",
    "\n",
    "So in Python free variables only make a difference as a concept in situations where a definition for an object that \n",
    "has state is lexically (i.e statically) nested in another definition for an object that has state.\n",
    "\n",
    "\"\"\"\n",
    "\n",
    "print"
   ]
  },
  {
   "cell_type": "markdown",
   "metadata": {},
   "source": [
    "- When a name is **not** found at all, a **NameError** exception is raised. \n",
    "    - If the name refers to a local variable that has not been bound, a **UnboundLocalError** exception is raised. \n",
    "    - UnboundLocalError is a subclass of NameError.\n",
    "    \n",
    "    \n",
    "- The following constructs **bind names**: \n",
    "    - formal parameters to functions, \n",
    "    - import statements, \n",
    "    - class and function definitions (these bind the class or function name in the defining block), and \n",
    "    - targets that are identifiers if occurring \n",
    "        - in an assignment, for loop header, \n",
    "        - in the second position of an except clause header or \n",
    "        - after as in a with statement. \n",
    "    - The import statement of the form **from ... import * ** binds **all** names defined in the imported module, \n",
    "        - except those beginning with an underscore:\n",
    "            - This form may only be used at the module level.\n",
    "            \n",
    "- A target occurring in a del statement is also considered bound for this purpose \n",
    "    - (though the actual semantics are to unbind the name). \n",
    "- It is illegal to unbind a name that is referenced by an enclosing scope; the compiler will report a **SyntaxError**."
   ]
  },
  {
   "cell_type": "code",
   "execution_count": 1,
   "metadata": {
    "collapsed": false
   },
   "outputs": [
    {
     "name": "stdout",
     "output_type": "stream",
     "text": [
      "<type 'exceptions.NameError'> name 'aa' is not defined\n",
      "\n",
      "<type 'exceptions.NameError'> global name 'aa' is not defined\n",
      "\n",
      "<type 'exceptions.UnboundLocalError'> local variable 'cc' referenced before assignment\n"
     ]
    },
    {
     "ename": "SyntaxError",
     "evalue": "can not delete variable 'a' referenced in nested scope",
     "output_type": "error",
     "traceback": [
      "\u001b[1;36m  File \u001b[1;32m\"<string>\"\u001b[1;36m, line \u001b[1;32munknown\u001b[0m\n\u001b[1;31mSyntaxError\u001b[0m\u001b[1;31m:\u001b[0m can not delete variable 'a' referenced in nested scope\n"
     ]
    }
   ],
   "source": [
    "try:\n",
    "    print aa\n",
    "except Exception as e:\n",
    "    print type(e), e # <type 'exceptions.NameError'> name 'aa' is not defined\n",
    "\n",
    "print\n",
    "\n",
    "def func0():\n",
    "    bb = 'bb'\n",
    "    print aa\n",
    "try:\n",
    "    func0()\n",
    "except Exception as e:\n",
    "    print type(e), e # <type 'exceptions.NameError'> global name 'aa' is not defined\n",
    "\n",
    "print \n",
    "\n",
    "cc = 1\n",
    "def func0():\n",
    "    bb = 'bb'\n",
    "    print cc\n",
    "    cc = 2\n",
    "try:\n",
    "    func0()\n",
    "except Exception as e:\n",
    "    print type(e), e # <type 'exceptions.UnboundLocalError'> local variable 'cc' referenced before assignment\n",
    "\n",
    "def func1():\n",
    "    a = 1\n",
    "    print 'a in func1():', a\n",
    "    def nested_func():\n",
    "        print 'a referenced in nested_func():', a\n",
    "    del a # SyntaxError: can not delete variable 'a' referenced in nested scope\n",
    "    \n",
    "func1() "
   ]
  },
  {
   "cell_type": "markdown",
   "metadata": {},
   "source": [
    "\n",
    "- Each assignment or import statement occurs \n",
    "    - within a block defined by a class or function definition \n",
    "    - or at the module level (the top-level code block).\n",
    "    \n",
    "    \n",
    "- If a name binding operation occurs anywhere within a code block, all uses of the name within the block are treated as **references** to the current block. \n",
    "    - This can lead to errors when a name is used within a block before it is bound. \n",
    "    - This rule is subtle: \n",
    "        - Python lacks declarations and allows name binding operations to occur anywhere within a code block. \n",
    "        - The local variables of a code block can be determined by scanning the entire text of the block for name binding operations.\n",
    "        \n",
    "        \n",
    "- If the **global** statement occurs within a block, all uses of the name specified in the statement refer to the binding of that name in the **top-level** namespace. \n",
    "    - Names are resolved in the top-level namespace by searching the global namespace, i.e. \n",
    "        - the namespace of the module containing the code block, and \n",
    "        - the builtins namespace, the namespace of the module `__builtin__`. \n",
    "    - The global namespace is searched first. \n",
    "    - If the name is not found there, the builtins namespace is searched. \n",
    "    - The global statement must **precede** all uses of the name.\n",
    "    \n",
    "    \n",
    "- The **builtins namespace** associated with the execution of a code block is actually found by looking up the name `__builtins__` in its global namespace; \n",
    "    - this should be a dictionary or a module (in the latter case the module’s dictionary is used). \n",
    "- By default, when in the `__main__` module, `__builtins__` is the built-in module `__builtin__` (note: **no ‘s’**); \n",
    "    - when in any other module, `__builtins__` is an alias for the dictionary of the `__builtin__` module itself. \n",
    "    - `__builtins__` can be set to a user-created dictionary to create a weak form of restricted execution.\n",
    "    \n",
    "    \n",
    "- **CPython implementation detail**: \n",
    "    - Users should not touch `__builtins__`; it is strictly an implementation detail. \n",
    "    - Users wanting to override values in the builtins namespace should import the `__builtin__` (**no ‘s’**) module and modify its attributes appropriately.\n"
   ]
  },
  {
   "cell_type": "code",
   "execution_count": 2,
   "metadata": {
    "collapsed": false
   },
   "outputs": [
    {
     "name": "stdout",
     "output_type": "stream",
     "text": [
      "<type 'module'> <module '__builtin__' (built-in)>\n",
      "<type 'module'> <module '__builtin__' (built-in)>\n",
      "['ArithmeticError', 'AssertionError', 'AttributeError', 'BaseException', 'BufferError']\n",
      "['ArithmeticError', 'AssertionError', 'AttributeError', 'BaseException', 'BufferError']\n",
      "True\n",
      "True\n"
     ]
    }
   ],
   "source": [
    "print type(__builtins__), __builtins__\n",
    "print type(__builtin__), __builtin__\n",
    "print dir(__builtins__)[:5]\n",
    "print dir(__builtin__)[:5]\n",
    "print __builtins__ == __builtin__\n",
    "import __builtin__ as bi\n",
    "print __builtins__ == bi"
   ]
  },
  {
   "cell_type": "markdown",
   "metadata": {},
   "source": [
    "- The namespace for a module is automatically created the **first time** a module is imported. \n",
    "- The main module for a script is always called `__main__`.\n",
    "\n",
    "\n",
    "- The ***global*** statement has the same scope as a name binding operation in the same block. \n",
    "- If the nearest enclosing scope for a free variable contains a **global** statement, the **free** variable is treated as a **global**.\n",
    "\n",
    "\n",
    "- A **class** definition is an executable statement that may use and define names. \n",
    "    - These references follow the normal rules for name resolution. \n",
    "    - The namespace of the class definition becomes the *attribute dictionary* of the class. \n",
    "    - Names defined at the class scope are **not** visible in methods."
   ]
  },
  {
   "cell_type": "code",
   "execution_count": 11,
   "metadata": {
    "collapsed": false
   },
   "outputs": [
    {
     "ename": "NameError",
     "evalue": "global name 'a' is not defined",
     "output_type": "error",
     "traceback": [
      "\u001b[1;31m---------------------------------------------------------------------------\u001b[0m",
      "\u001b[1;31mNameError\u001b[0m                                 Traceback (most recent call last)",
      "\u001b[1;32m<ipython-input-11-73acaf62f3c1>\u001b[0m in \u001b[0;36m<module>\u001b[1;34m()\u001b[0m\n\u001b[0;32m      4\u001b[0m         \u001b[1;32mprint\u001b[0m \u001b[0ma\u001b[0m\u001b[1;33m\u001b[0m\u001b[0m\n\u001b[0;32m      5\u001b[0m \u001b[1;33m\u001b[0m\u001b[0m\n\u001b[1;32m----> 6\u001b[1;33m \u001b[0mC\u001b[0m\u001b[1;33m(\u001b[0m\u001b[1;33m)\u001b[0m\u001b[1;33m.\u001b[0m\u001b[0mmethod_a\u001b[0m\u001b[1;33m(\u001b[0m\u001b[1;33m)\u001b[0m\u001b[1;33m\u001b[0m\u001b[0m\n\u001b[0m",
      "\u001b[1;32m<ipython-input-11-73acaf62f3c1>\u001b[0m in \u001b[0;36mmethod_a\u001b[1;34m(self)\u001b[0m\n\u001b[0;32m      2\u001b[0m     \u001b[0ma\u001b[0m \u001b[1;33m=\u001b[0m \u001b[1;36m33\u001b[0m\u001b[1;33m\u001b[0m\u001b[0m\n\u001b[0;32m      3\u001b[0m     \u001b[1;32mdef\u001b[0m \u001b[0mmethod_a\u001b[0m\u001b[1;33m(\u001b[0m\u001b[0mself\u001b[0m\u001b[1;33m)\u001b[0m\u001b[1;33m:\u001b[0m\u001b[1;33m\u001b[0m\u001b[0m\n\u001b[1;32m----> 4\u001b[1;33m         \u001b[1;32mprint\u001b[0m \u001b[0ma\u001b[0m\u001b[1;33m\u001b[0m\u001b[0m\n\u001b[0m\u001b[0;32m      5\u001b[0m \u001b[1;33m\u001b[0m\u001b[0m\n\u001b[0;32m      6\u001b[0m \u001b[0mC\u001b[0m\u001b[1;33m(\u001b[0m\u001b[1;33m)\u001b[0m\u001b[1;33m.\u001b[0m\u001b[0mmethod_a\u001b[0m\u001b[1;33m(\u001b[0m\u001b[1;33m)\u001b[0m\u001b[1;33m\u001b[0m\u001b[0m\n",
      "\u001b[1;31mNameError\u001b[0m: global name 'a' is not defined"
     ]
    }
   ],
   "source": [
    "class C:\n",
    "    a = 33\n",
    "    def method_a(self): \n",
    "        print a # NameError: global name 'a' is not defined\n",
    "        \n",
    "C().method_a()"
   ]
  },
  {
   "cell_type": "code",
   "execution_count": 12,
   "metadata": {
    "collapsed": false
   },
   "outputs": [
    {
     "name": "stdout",
     "output_type": "stream",
     "text": [
      "33\n"
     ]
    }
   ],
   "source": [
    "class C:\n",
    "    a = 33\n",
    "    def method_a(self): \n",
    "        print C.a # use C\n",
    "        \n",
    "C().method_a()"
   ]
  },
  {
   "cell_type": "code",
   "execution_count": 2,
   "metadata": {
    "collapsed": false
   },
   "outputs": [
    {
     "name": "stdout",
     "output_type": "stream",
     "text": [
      "33\n"
     ]
    }
   ],
   "source": [
    "class C(object):\n",
    "    a = 33\n",
    "    def method_a(self): \n",
    "        print self.a # use self to refer it\n",
    "        \n",
    "C().method_a()"
   ]
  },
  {
   "cell_type": "code",
   "execution_count": 5,
   "metadata": {
    "collapsed": false
   },
   "outputs": [
    {
     "name": "stdout",
     "output_type": "stream",
     "text": [
      "6\n",
      "5\n"
     ]
    }
   ],
   "source": [
    "myvariable = 5\n",
    "def func():\n",
    "    myvariable = 6    # creates a new \"local\" variable.  \n",
    "                      # Doesn't affect the global version\n",
    "    print myvariable  # prints 6\n",
    "\n",
    "func()\n",
    "print myvariable   #prints 5"
   ]
  },
  {
   "cell_type": "code",
   "execution_count": 6,
   "metadata": {
    "collapsed": false
   },
   "outputs": [
    {
     "name": "stdout",
     "output_type": "stream",
     "text": [
      "6\n",
      "6\n"
     ]
    }
   ],
   "source": [
    "myvariable = 5\n",
    "def func():\n",
    "    global myvariable # defined at the global (module-level) scope\n",
    "    myvariable = 6    # changes `myvariable` at the global scope\n",
    "    print myvariable  # prints 6\n",
    "\n",
    "func()\n",
    "print myvariable  #prints 6 now because we were able \n",
    "                  #to modify the reference in the function"
   ]
  },
  {
   "cell_type": "code",
   "execution_count": 11,
   "metadata": {
    "collapsed": false
   },
   "outputs": [
    {
     "name": "stdout",
     "output_type": "stream",
     "text": [
      "I hate spam\n",
      "\n",
      "Me too.\n",
      "I hate spam.\n",
      "\n",
      "<type 'exceptions.UnboundLocalError'> local variable 's' referenced before assignment\n",
      "I hate spam.\n",
      "\n",
      "I hate spam!\n",
      "Me too.\n",
      "Me too.\n",
      "\n",
      "I am globally not known\n",
      "<type 'exceptions.NameError'> name 's2' is not defined\n",
      "\n",
      "1 15 3 4\n",
      "42 17 4 17\n",
      "42 15 3 4\n"
     ]
    }
   ],
   "source": [
    "def f(): \n",
    "    print s \n",
    "s = \"I hate spam\"\n",
    "f()\n",
    "\n",
    "print \n",
    "\n",
    "def f(): \n",
    "    s = \"Me too.\"\n",
    "    print s \n",
    "s = \"I hate spam.\" \n",
    "f()\n",
    "print s\n",
    "\n",
    "print\n",
    "\n",
    "def f(): \n",
    "    print s        # UnboundLocalError: local variable 's' referenced before assignment\n",
    "    s = \"Me too.\"  # this is because Python \"assumes\" that we want a local variable due to the assignment to s\n",
    "    print s\n",
    "s = \"I hate spam.\" \n",
    "try:\n",
    "    f()\n",
    "except Exception as e:\n",
    "    print type(e), e\n",
    "print s\n",
    "\n",
    "print\n",
    "\n",
    "def f():\n",
    "    global s       # defined at the global (module-level) scope\n",
    "    print s\n",
    "    s = \"Me too.\"\n",
    "    print s \n",
    "s = \"I hate spam!\" \n",
    "f()\n",
    "print s\n",
    "\n",
    "print\n",
    "\n",
    "def f():\n",
    "    s2 = \"I am globally not known\"\n",
    "    print s2 \n",
    "f()\n",
    "try:\n",
    "    print s2           # local variable cannot be accessed outside\n",
    "except Exception as e:\n",
    "    print type(e), e   # <type 'exceptions.NameError'> name 's2' is not defined\n",
    "\n",
    "print\n",
    "\n",
    "# a deliberate combination of local and global variables \n",
    "# and function parameters\n",
    "def foo(x, y):\n",
    "    global a\n",
    "    a = 42\n",
    "    x,y = y,x\n",
    "    b = 33\n",
    "    b = 17\n",
    "    c = 100\n",
    "    print a,b,x,y      # 42 17 4 17\n",
    "                       # a is changed globally\n",
    "                       # b, c is local\n",
    "                       # x,y swapped\n",
    "a,b,x,y = 1,15,3,4\n",
    "print a,b,x,y          # 1  15 3 4\n",
    "foo(17,4)\n",
    "print a,b,x,y          # 42 15 3 4\n",
    "                       # a is changed globally\n",
    "                       # b is the global one\n",
    "                       # x,y are the global ones"
   ]
  },
  {
   "cell_type": "code",
   "execution_count": 3,
   "metadata": {
    "collapsed": false
   },
   "outputs": [
    {
     "name": "stdout",
     "output_type": "stream",
     "text": [
      "x= 3 func2\n",
      "x= 3 func3\n",
      "y= 4 func3\n",
      "z= 5 func3\n",
      "x= 10 func1\n",
      "x= 3 func2\n"
     ]
    },
    {
     "ename": "UnboundLocalError",
     "evalue": "local variable 'x' referenced before assignment",
     "output_type": "error",
     "traceback": [
      "\u001b[1;31m---------------------------------------------------------------------------\u001b[0m",
      "\u001b[1;31mUnboundLocalError\u001b[0m                         Traceback (most recent call last)",
      "\u001b[1;32m<ipython-input-3-9db513cde797>\u001b[0m in \u001b[0;36m<module>\u001b[1;34m()\u001b[0m\n\u001b[0;32m     44\u001b[0m     \u001b[0mprint\u001b[0m\u001b[1;33m(\u001b[0m\u001b[1;34m\"x=\"\u001b[0m\u001b[1;33m,\u001b[0m\u001b[0mx\u001b[0m\u001b[1;33m,\u001b[0m\u001b[1;34m\"func1\"\u001b[0m\u001b[1;33m)\u001b[0m\u001b[1;33m\u001b[0m\u001b[0m\n\u001b[0;32m     45\u001b[0m \u001b[1;33m\u001b[0m\u001b[0m\n\u001b[1;32m---> 46\u001b[1;33m \u001b[0mfunc1\u001b[0m\u001b[1;33m(\u001b[0m\u001b[1;33m)\u001b[0m\u001b[1;33m\u001b[0m\u001b[0m\n\u001b[0m",
      "\u001b[1;32m<ipython-input-3-9db513cde797>\u001b[0m in \u001b[0;36mfunc1\u001b[1;34m()\u001b[0m\n\u001b[0;32m     41\u001b[0m         \u001b[0mfunc3\u001b[0m\u001b[1;33m(\u001b[0m\u001b[1;33m)\u001b[0m\u001b[1;33m\u001b[0m\u001b[0m\n\u001b[0;32m     42\u001b[0m \u001b[1;33m\u001b[0m\u001b[0m\n\u001b[1;32m---> 43\u001b[1;33m     \u001b[0mfunc2\u001b[0m\u001b[1;33m(\u001b[0m\u001b[1;33m)\u001b[0m\u001b[1;33m\u001b[0m\u001b[0m\n\u001b[0m\u001b[0;32m     44\u001b[0m     \u001b[0mprint\u001b[0m\u001b[1;33m(\u001b[0m\u001b[1;34m\"x=\"\u001b[0m\u001b[1;33m,\u001b[0m\u001b[0mx\u001b[0m\u001b[1;33m,\u001b[0m\u001b[1;34m\"func1\"\u001b[0m\u001b[1;33m)\u001b[0m\u001b[1;33m\u001b[0m\u001b[0m\n\u001b[0;32m     45\u001b[0m \u001b[1;33m\u001b[0m\u001b[0m\n",
      "\u001b[1;32m<ipython-input-3-9db513cde797>\u001b[0m in \u001b[0;36mfunc2\u001b[1;34m()\u001b[0m\n\u001b[0;32m     39\u001b[0m             \u001b[0mx\u001b[0m \u001b[1;33m=\u001b[0m \u001b[1;36m10\u001b[0m\u001b[1;33m\u001b[0m\u001b[0m\n\u001b[0;32m     40\u001b[0m \u001b[1;33m\u001b[0m\u001b[0m\n\u001b[1;32m---> 41\u001b[1;33m         \u001b[0mfunc3\u001b[0m\u001b[1;33m(\u001b[0m\u001b[1;33m)\u001b[0m\u001b[1;33m\u001b[0m\u001b[0m\n\u001b[0m\u001b[0;32m     42\u001b[0m \u001b[1;33m\u001b[0m\u001b[0m\n\u001b[0;32m     43\u001b[0m     \u001b[0mfunc2\u001b[0m\u001b[1;33m(\u001b[0m\u001b[1;33m)\u001b[0m\u001b[1;33m\u001b[0m\u001b[0m\n",
      "\u001b[1;32m<ipython-input-3-9db513cde797>\u001b[0m in \u001b[0;36mfunc3\u001b[1;34m()\u001b[0m\n\u001b[0;32m     33\u001b[0m         \u001b[1;32mdef\u001b[0m \u001b[0mfunc3\u001b[0m\u001b[1;33m(\u001b[0m\u001b[1;33m)\u001b[0m\u001b[1;33m:\u001b[0m\u001b[1;33m\u001b[0m\u001b[0m\n\u001b[0;32m     34\u001b[0m             \u001b[1;31m# nonlocal x          # try it with nonlocal commented out as well.  See the difference.\u001b[0m\u001b[1;33m\u001b[0m\u001b[1;33m\u001b[0m\u001b[0m\n\u001b[1;32m---> 35\u001b[1;33m             \u001b[0mprint\u001b[0m\u001b[1;33m(\u001b[0m\u001b[1;34m\"x=\"\u001b[0m\u001b[1;33m,\u001b[0m\u001b[0mx\u001b[0m\u001b[1;33m,\u001b[0m\u001b[1;34m\"func3\"\u001b[0m\u001b[1;33m)\u001b[0m \u001b[1;31m# UnboundLocalError: local variable 'x' referenced before assignment\u001b[0m\u001b[1;33m\u001b[0m\u001b[0m\n\u001b[0m\u001b[0;32m     36\u001b[0m             \u001b[0mprint\u001b[0m\u001b[1;33m(\u001b[0m\u001b[1;34m\"y=\"\u001b[0m\u001b[1;33m,\u001b[0m\u001b[0my\u001b[0m\u001b[1;33m,\u001b[0m\u001b[1;34m\"func3\"\u001b[0m\u001b[1;33m)\u001b[0m\u001b[1;33m\u001b[0m\u001b[0m\n\u001b[0;32m     37\u001b[0m             \u001b[0mz\u001b[0m \u001b[1;33m=\u001b[0m \u001b[1;36m5\u001b[0m\u001b[1;33m\u001b[0m\u001b[0m\n",
      "\u001b[1;31mUnboundLocalError\u001b[0m: local variable 'x' referenced before assignment"
     ]
    }
   ],
   "source": [
    "\"\"\" PYTHON 3.x ONLY!\n",
    "Below is an example of \n",
    "\n",
    "    nonlocal\n",
    "    \n",
    "statement. \n",
    "\"\"\"\n",
    "def func1():\n",
    "    x = 3\n",
    "    def func2():\n",
    "        print(\"x=\",x,\"func2\")\n",
    "        y = 4\n",
    "        def func3():\n",
    "            nonlocal x  #try it with nonlocal commented out as well.  See the difference.\n",
    "            print(\"x=\",x,\"func3\")\n",
    "            print(\"y=\",y,\"func3\")\n",
    "            z = 5\n",
    "            print(\"z=\",z,\"func3\")\n",
    "            x = 10\n",
    "\n",
    "        func3()\n",
    "\n",
    "    func2()\n",
    "    print(\"x=\",x,\"func1\")\n",
    "\n",
    "func1()\n",
    "\n",
    "def func1():\n",
    "    x = 3\n",
    "    def func2():\n",
    "        print(\"x=\",x,\"func2\")\n",
    "        y = 4\n",
    "        def func3():\n",
    "            # nonlocal x          # try it with nonlocal commented out as well.  See the difference.\n",
    "            print(\"x=\",x,\"func3\") # UnboundLocalError: local variable 'x' referenced before assignment\n",
    "            print(\"y=\",y,\"func3\")\n",
    "            z = 5\n",
    "            print(\"z=\",z,\"func3\")\n",
    "            x = 10\n",
    "\n",
    "        func3()\n",
    "\n",
    "    func2()\n",
    "    print(\"x=\",x,\"func1\")\n",
    "\n",
    "func1()"
   ]
  },
  {
   "cell_type": "markdown",
   "metadata": {},
   "source": [
    "### 4.1.1. Interaction with dynamic features\n",
    "\n",
    "- There are several cases where Python statements are **illegal** when used in conjunction with nested scopes that contain **free variables**.\n",
    "\n",
    "    - If a variable is referenced in an enclosing scope, it is illegal to delete the name. \n",
    "    - An error will be reported at compile time.\n"
   ]
  },
  {
   "cell_type": "code",
   "execution_count": 18,
   "metadata": {
    "collapsed": false
   },
   "outputs": [
    {
     "ename": "SyntaxError",
     "evalue": "can not delete variable 'a' referenced in nested scope",
     "output_type": "error",
     "traceback": [
      "\u001b[1;36m  File \u001b[1;32m\"<string>\"\u001b[1;36m, line \u001b[1;32munknown\u001b[0m\n\u001b[1;31mSyntaxError\u001b[0m\u001b[1;31m:\u001b[0m can not delete variable 'a' referenced in nested scope\n"
     ]
    }
   ],
   "source": [
    "def func1():\n",
    "    \n",
    "    a = 1\n",
    "    print 'a in func1():', a\n",
    "    \n",
    "    def nested_func():\n",
    "        print 'a referenced in nested_func():', a\n",
    "    \n",
    "    del a # SyntaxError: can not delete variable 'a' referenced in nested scope\n",
    "    \n",
    "func1() "
   ]
  },
  {
   "cell_type": "markdown",
   "metadata": {},
   "source": [
    "- If the wild card form of import — import * — is used in a function and the function contains or is a nested block with free variables, the compiler will raise a SyntaxError.\n"
   ]
  },
  {
   "cell_type": "code",
   "execution_count": 4,
   "metadata": {
    "collapsed": false
   },
   "outputs": [
    {
     "name": "stderr",
     "output_type": "stream",
     "text": [
      "<ipython-input-4-b2b98a116fe3>:3: SyntaxWarning: import * only allowed at module level\n",
      "  def foo():\n"
     ]
    },
    {
     "ename": "SyntaxError",
     "evalue": "import * is not allowed in function 'foo' because it is a nested function (<ipython-input-4-b2b98a116fe3>, line 4)",
     "output_type": "error",
     "traceback": [
      "\u001b[1;36m  File \u001b[1;32m\"<ipython-input-4-b2b98a116fe3>\"\u001b[1;36m, line \u001b[1;32m4\u001b[0m\n\u001b[1;33m    from os import *\u001b[0m\n\u001b[1;31mSyntaxError\u001b[0m\u001b[1;31m:\u001b[0m import * is not allowed in function 'foo' because it is a nested function\n"
     ]
    }
   ],
   "source": [
    "def f1():\n",
    "    a = 1\n",
    "    def foo():\n",
    "        from os import * # SyntaxWarning, SyntaxError\n",
    "        print a\n",
    "    foo()\n",
    "f1()\n",
    "    "
   ]
  },
  {
   "cell_type": "code",
   "execution_count": 5,
   "metadata": {
    "collapsed": false
   },
   "outputs": [
    {
     "name": "stdout",
     "output_type": "stream",
     "text": [
      "1\n"
     ]
    },
    {
     "name": "stderr",
     "output_type": "stream",
     "text": [
      "<ipython-input-5-193c6728fa41>:2: SyntaxWarning: import * only allowed at module level\n",
      "  def foo():\n"
     ]
    }
   ],
   "source": [
    "def f1():\n",
    "    def foo():\n",
    "        from os import * # SyntaxWarning\n",
    "        print 1\n",
    "    foo()\n",
    "f1()"
   ]
  },
  {
   "cell_type": "markdown",
   "metadata": {},
   "source": [
    "\n",
    "- If exec is used in a function and the function contains or is a nested block with free variables, the compiler will raise a SyntaxError unless the exec explicitly specifies the local namespace for the exec. \n",
    "- In other words, \n",
    "    - exec obj would be illegal, but \n",
    "    - exec obj in ns would be legal.\n",
    "\n",
    "\n",
    "- The eval(), execfile(), and input() functions and the exec statement do not have access to the full environment for resolving names. \n",
    "    - Names may be resolved in the local and global namespaces of the caller. \n",
    "    - Free variables are not resolved in the nearest enclosing namespace, but in the global namespace. \n",
    "    - The exec statement and the eval() and execfile() functions have optional arguments to override the global and local namespace. \n",
    "        - If only one namespace is specified, it is used for both."
   ]
  },
  {
   "cell_type": "code",
   "execution_count": 6,
   "metadata": {
    "collapsed": false
   },
   "outputs": [
    {
     "ename": "SyntaxError",
     "evalue": "unqualified exec is not allowed in function 'foo' because it is a nested function (<ipython-input-6-e54ec2c4f1c2>, line 4)",
     "output_type": "error",
     "traceback": [
      "\u001b[1;36m  File \u001b[1;32m\"<ipython-input-6-e54ec2c4f1c2>\"\u001b[1;36m, line \u001b[1;32m4\u001b[0m\n\u001b[1;33m    exec('print 66') # SyntaxWarning\u001b[0m\n\u001b[1;31mSyntaxError\u001b[0m\u001b[1;31m:\u001b[0m unqualified exec is not allowed in function 'foo' because it is a nested function\n"
     ]
    }
   ],
   "source": [
    "def f1():\n",
    "    a = 1\n",
    "    def foo():\n",
    "        exec('print 66') # SyntaxWarning, SyntaxError\n",
    "        print a\n",
    "    foo()\n",
    "f1()"
   ]
  },
  {
   "cell_type": "code",
   "execution_count": 8,
   "metadata": {
    "collapsed": false
   },
   "outputs": [
    {
     "name": "stdout",
     "output_type": "stream",
     "text": [
      "66\n",
      "1\n"
     ]
    }
   ],
   "source": [
    "def f1():\n",
    "    def foo():\n",
    "        exec('print 66') \n",
    "        print 1\n",
    "    foo()\n",
    "f1()"
   ]
  },
  {
   "cell_type": "markdown",
   "metadata": {},
   "source": [
    "### 4.2. Exceptions\n",
    "\n",
    "- Exceptions are a means of breaking out of the normal flow of control of a code block in order to handle errors or other exceptional conditions. \n",
    "    - An exception is raised at the point where the error is detected; \n",
    "    - it may be handled by the surrounding code block or by any code block that directly or indirectly invoked the code block where the error occurred.\n",
    "    \n",
    "    \n",
    "- The Python interpreter raises an exception when it detects a run-time error (such as division by zero). \n",
    "- A Python program can also explicitly raise an exception with the raise statement. \n",
    "- Exception handlers are specified with the **try ... except** statement. \n",
    "- The **finally** clause of such a statement can be used to specify **cleanup** code which does not handle the exception, but is executed no matter an exception occurred or not in the preceding code.\n",
    "\n",
    "\n",
    "- Python uses the “**termination**” model of error handling: \n",
    "    - an exception handler can find out what happened and continue execution at an outer level, \n",
    "    - but it cannot repair the cause of the error and retry the failing operation \n",
    "        - (except by re-entering the offending piece of code from the top).\n",
    "        \n",
    "        \n",
    "- When an exception is not handled at all, the interpreter terminates execution of the program, or returns to its interactive main loop. \n",
    "    - In either case, it prints a stack backtrace, except when the exception is **SystemExit**.\n",
    "    \n",
    "    \n",
    "- Exceptions are identified by class instances. \n",
    "- The except clause is selected depending on the class of the instance: \n",
    "    - it must reference the class of the instance or a base class thereof. \n",
    "    - The instance can be received by the handler and can carry additional information about the exceptional condition.\n",
    "    \n",
    "    \n",
    "- Exceptions can also be identified by strings, \n",
    "    - in which case the except clause is selected by object identity. \n",
    "    - An arbitrary value can be raised along with the identifying string which can be passed to the handler.\n",
    "- **Note**:\n",
    "    - Messages to exceptions are not part of the Python API. \n",
    "    - Their contents may change from one version of Python to the next without warning and \n",
    "    - should not be relied on by code which will run under multiple versions of the interpreter."
   ]
  },
  {
   "cell_type": "code",
   "execution_count": null,
   "metadata": {
    "collapsed": true
   },
   "outputs": [],
   "source": []
  }
 ],
 "metadata": {
  "kernelspec": {
   "display_name": "Python 2",
   "language": "python",
   "name": "python2"
  },
  "language_info": {
   "codemirror_mode": {
    "name": "ipython",
    "version": 2
   },
   "file_extension": ".py",
   "mimetype": "text/x-python",
   "name": "python",
   "nbconvert_exporter": "python",
   "pygments_lexer": "ipython2",
   "version": "2.7.11"
  }
 },
 "nbformat": 4,
 "nbformat_minor": 0
}
