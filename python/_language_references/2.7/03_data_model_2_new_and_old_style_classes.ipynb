{
 "cells": [
  {
   "cell_type": "markdown",
   "metadata": {},
   "source": [
    "## 3. [Data Model](https://docs.python.org/2/reference/datamodel.html)\n",
    "\n",
    "### 3.3. New-style and classic classes\n",
    "\n",
    "##### Classes and instances come in two flavors\n",
    "- old-style (or classic) and \n",
    "- new-style.\n",
    "\n",
    "#####  Old-style (or classic)\n",
    "- Up to Python 2.1 the concept of class was unrelated to the concept of __type__, and old-style classes were the only flavor available. \n",
    "- ```the statement x.__class__ provides the class of x, ```\n",
    "- ```but type(x) is always <type 'instance'> ```\n",
    "- old-style instances, independent of their class, are implemented with a single built-in type, called __instance__.\n",
    "\n",
    "##### New-style classes\n",
    "\n",
    "- were introduced in Python 2.2 \n",
    "- unify the concepts of class and type. \n",
    "- A new-style class is simply a user-defined type, no more, no less. \n",
    "- ```If x is an instance of a new-style class, then type(x) == x.__class__, if x.__class__ is not overriden.```\n",
    "\n",
    "\n",
    "##### Differences\n",
    "\n",
    "- For compatibility reasons, classes are still __old-style__ by default. \n",
    "- New-style classes are created by specifying another new-style class (i.e. a type) as a parent class, or the “top-level type” __object__ if no other parent is needed. \n",
    "- The behaviour of new-style classes differs from that of old-style classes in a number of important details in addition to what type() returns. \n",
    "    - Some of these changes are fundamental to the new object model, like the way special methods are invoked. \n",
    "    - Others are “fixes” that could not be implemented before for compatibility concerns, \n",
    "        - like the method resolution order in case of multiple inheritance.\n",
    "\n",
    "More information for new-style class: https://www.python.org/doc/newstyle/.\n",
    "\n",
    "##### In Python 3:\n",
    "Old-style classes are removed, leaving only new-style classes, no need to specify it as a base anymore.\n",
    "\n"
   ]
  },
  {
   "cell_type": "code",
   "execution_count": 36,
   "metadata": {
    "collapsed": false
   },
   "outputs": [
    {
     "name": "stdout",
     "output_type": "stream",
     "text": [
      "__main__.old_class <type 'instance'>\n",
      "<class '__main__.new_class'> <class '__main__.new_class'>\n"
     ]
    }
   ],
   "source": [
    "class old_class:\n",
    "    pass\n",
    "\n",
    "x = old_class()\n",
    "print x.__class__, type(x)\n",
    "\n",
    "class new_class(object):\n",
    "    pass\n",
    "\n",
    "x = new_class()\n",
    "print x.__class__, type(x)"
   ]
  },
  {
   "cell_type": "markdown",
   "metadata": {},
   "source": []
  }
 ],
 "metadata": {
  "kernelspec": {
   "display_name": "Python 2",
   "language": "python",
   "name": "python2"
  },
  "language_info": {
   "codemirror_mode": {
    "name": "ipython",
    "version": 2
   },
   "file_extension": ".py",
   "mimetype": "text/x-python",
   "name": "python",
   "nbconvert_exporter": "python",
   "pygments_lexer": "ipython2",
   "version": "2.7.11"
  }
 },
 "nbformat": 4,
 "nbformat_minor": 0
}
