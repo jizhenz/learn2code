{
 "cells": [
  {
   "cell_type": "markdown",
   "metadata": {},
   "source": [
    "## 3. [Data Model](https://docs.python.org/2/reference/datamodel.html)\n",
    "\n",
    "### 3.1 Objects, values and types\n",
    "\n",
    "- **_ Objects _**: Python’s abstraction for data.\n",
    "\n",
    "\n",
    "    - All data is represented by objects or by relations between objects. \n",
    "    - Code is also represented by objects.\n",
    "    \n",
    "    \n",
    "- Every object has an identity, a type and a value. \n",
    "\n",
    "\n",
    "    - An object’s identity never changes once created (think of it as the object’s address in memory). \n",
    "        - ‘is‘ operator compares the identity of two objects; \n",
    "        - id() function returns an integer representing its identity (currently implemented as its address). \n",
    "                \n",
    "    - An object’s type is also unchangeable. \n",
    "        - determines the operations that the object supports (e.g., “does it have a length?”) and also \n",
    "        - defines the possible values for objects of that type. \n",
    "        - type() function returns an object’s type (which is an object itself). \n",
    "                \n",
    "    - The value of some objects can change. \n",
    "        - Objects whose value can change are said to be mutable; \n",
    "        - objects whose value is unchangeable once they are created are called immutable. \n",
    "            - The value of an immutable container that contains a reference to a mutable object can change \n",
    "            - So, immutability is not strictly the same as having an unchangeable value, it is more subtle.\n",
    "        - An object’s mutability is determined by its type; for instance, \n",
    "            - numbers, strings and tuples are immutable, while \n",
    "            - dictionaries and lists are mutable.\n",
    "                    \n",
    "- Objects are never explicitly destroyed; they may be garbage-collected when becoming unreachable. \n",
    "\n",
    "\n",
    "    - CPython currently uses a reference-counting scheme with (optional) delayed detection of cyclically linked garbage:\n",
    "        - collects most objects as soon as they become unreachable, \n",
    "        - but is not guaranteed to collect garbage containing circular references.\n",
    "    - Do not assume immediate deletion of objects when they become unreachable:\n",
    "        - ex: always close files\n",
    "        \n",
    "- Note that the use of the tracing or debugging facilities may keep collectable objects alive.\n",
    "\n",
    "- Also note that catching an exception with a ‘try...except‘ statement may keep objects alive."
   ]
  },
  {
   "cell_type": "code",
   "execution_count": 38,
   "metadata": {
    "collapsed": false
   },
   "outputs": [
    {
     "name": "stdout",
     "output_type": "stream",
     "text": [
      "====>small integers are singletons\n",
      "True\n",
      "10 9266384 <type 'int'> \n",
      "10 9266384 <type 'int'>\n",
      "====>big integers are not singletons\n",
      "False\n",
      "2147483647 54472984 <type 'int'> \n",
      "2147483647 54472720 <type 'int'>\n",
      "\n",
      "====>long integers are not singletons\n",
      "False\n",
      "3 62574352 <type 'long'> \n",
      "3 62574256 <type 'long'>\n",
      "False\n",
      "79228162514264337593543950336 63447248 <type 'long'> \n",
      "79228162514264337593543950336 63447288 <type 'long'>\n",
      "\n",
      "====>floats are not singletons\n",
      "False\n",
      "0.0 54484240 <type 'float'> \n",
      "0.0 54484072 <type 'float'>\n",
      "\n",
      "====>short strings are singletons\n",
      "True\n",
      "abc 37763392 <type 'str'> \n",
      "abc 37763392 <type 'str'>\n",
      "====>long strings are not singletons \n",
      "False\n",
      "abcabcabcabcabcabcabcabcabcabcabcabcabcabcabcabcabcabcabcabcabcabcabcabcabcabcabcabcabcabcabcabcabcabcabcabcabcabcabcabcabcabcabcabcabcabcabcabcabcabcabcabcabcabcabcabcabcabcabcabcabcabcabcabcabcabcabcabcabcabcabcabcabcabcabcabcabcabcabcabcabcabcabcabcabcabcabcabcabcabcabcabcabcabcabcabcabcabcabcabc 58825728 <type 'str'> \n",
      "abcabcabcabcabcabcabcabcabcabcabcabcabcabcabcabcabcabcabcabcabcabcabcabcabcabcabcabcabcabcabcabcabcabcabcabcabcabcabcabcabcabcabcabcabcabcabcabcabcabcabcabcabcabcabcabcabcabcabcabcabcabcabcabcabcabcabcabcabcabcabcabcabcabcabcabcabcabcabcabcabcabcabcabcabcabcabcabcabcabcabcabcabcabcabcabcabcabcabcabc 58826400 <type 'str'>\n",
      "\n",
      "====>empty tuples are same\n",
      "True\n",
      "() 8917064 <type 'tuple'> \n",
      "() 8917064 <type 'tuple'>\n",
      "\n",
      "====>non-empty tuples are different\n",
      "False\n",
      "(1,) 62027200 <type 'tuple'> \n",
      "(1,) 62587288 <type 'tuple'>\n",
      "\n",
      "====>empty sets are different\n",
      "False\n",
      "set([]) 55256008 <type 'set'> \n",
      "set([]) 51523656 <type 'set'>\n",
      "\n",
      "====>empty lists are different\n",
      "False\n",
      "[] 62125640 <type 'list'> \n",
      "[] 63406408 <type 'list'>\n",
      "\n",
      "====>empty dictionaries are different\n",
      "False\n",
      "{} 63341432 <type 'dict'> \n",
      "{} 62694536 <type 'dict'>\n",
      "\n",
      "====>below assign {} to a and b\n",
      "True\n",
      "{} 63423624 <type 'dict'> \n",
      "{} 63423624 <type 'dict'>\n",
      "\n"
     ]
    }
   ],
   "source": [
    "\n",
    "# test some premitive or built-in types\n",
    "# some of these are compiler implementation dependent\n",
    "\n",
    "print '====>small integers are singletons'\n",
    "a = 10\n",
    "b = 10\n",
    "print a is b\n",
    "print a, id(a), type(a), '\\n', b, id(b), type(b)\n",
    "\n",
    "print '====>big integers are not singletons'\n",
    "a = 2147483647\n",
    "b = 2147483647\n",
    "print a is b\n",
    "print a, id(a), type(a), '\\n', b, id(b), type(b)\n",
    "print \n",
    "\n",
    "print '====>long integers are not singletons'\n",
    "a = 3L\n",
    "b = 3L\n",
    "print a is b\n",
    "print a, id(a), type(a), '\\n', b, id(b), type(b)\n",
    "\n",
    "a = 79228162514264337593543950336L\n",
    "b = 79228162514264337593543950336L\n",
    "print a is b\n",
    "print a, id(a), type(a), '\\n', b, id(b), type(b)\n",
    "print\n",
    "\n",
    "print '====>floats are not singletons'\n",
    "a = 0.0\n",
    "b = 0.0\n",
    "print a is b\n",
    "print a, id(a), type(a), '\\n', b, id(b), type(b)\n",
    "print\n",
    "\n",
    "print '====>short strings are singletons'\n",
    "a = 'abc'\n",
    "b = 'abc'\n",
    "print a is b\n",
    "print a, id(a), type(a), '\\n', b, id(b), type(b)\n",
    "\n",
    "print '====>long strings are not singletons '\n",
    "a = 'abc' * 100\n",
    "b = 'abc' * 100\n",
    "print a is b\n",
    "print a, id(a), type(a), '\\n', b, id(b), type(b)\n",
    "print\n",
    "\n",
    "print '====>empty tuples are same'\n",
    "a = ()\n",
    "b = ()\n",
    "print a is b\n",
    "print a, id(a), type(a), '\\n', b, id(b), type(b)\n",
    "print\n",
    "\n",
    "print '====>non-empty tuples are different'\n",
    "a = (1,)\n",
    "b = (1,)\n",
    "print a is b\n",
    "print a, id(a), type(a), '\\n', b, id(b), type(b)\n",
    "print\n",
    "\n",
    "print '====>empty sets are different'\n",
    "a = set()\n",
    "b = set()\n",
    "print a is b\n",
    "print a, id(a), type(a), '\\n', b, id(b), type(b)\n",
    "print\n",
    "\n",
    "print '====>empty lists are different'\n",
    "a = []\n",
    "b = list()\n",
    "print a is b\n",
    "print a, id(a), type(a), '\\n', b, id(b), type(b)\n",
    "print\n",
    "\n",
    "print '====>empty dictionaries are different'\n",
    "a = dict()\n",
    "b = {}\n",
    "print a is b\n",
    "print a, id(a), type(a), '\\n', b, id(b), type(b)\n",
    "print\n",
    "\n",
    "print '====>below assign {} to a and b'\n",
    "a = b = {}\n",
    "print a is b\n",
    "print a, id(a), type(a), '\\n', b, id(b), type(b)\n",
    "print\n"
   ]
  },
  {
   "cell_type": "markdown",
   "metadata": {},
   "source": [
    "### 3.2. The standard type hierarchy\n",
    "\n",
    "- Below is a list of the types that are built into Python. \n",
    "- Extension modules (written in C, Java, or other languages, depending on the implementation) can define additional types.\n",
    "- Future versions of Python may add types to the type hierarchy (e.g., rational numbers, efficiently stored arrays of integers, etc.).\n",
    "\n",
    ">Some of the type descriptions below contain a paragraph listing ‘special attributes.’ These are attributes that provide access to the implementation and are not intended for general use. Their definition may change in the future."
   ]
  },
  {
   "cell_type": "code",
   "execution_count": 42,
   "metadata": {
    "collapsed": false
   },
   "outputs": [
    {
     "name": "stdout",
     "output_type": "stream",
     "text": [
      "====>None\n",
      "id: 506046248\n",
      "type: <type 'NoneType'>\n",
      "value: None\n",
      "Is None True? False\n",
      "Is None False False\n",
      "truth value: False\n"
     ]
    }
   ],
   "source": [
    "\"\"\"\n",
    "None: This type has a single value.\n",
    "\"\"\"\n",
    "print '====>None'\n",
    "print 'id:', id(None)\n",
    "print 'type:', type(None)\n",
    "print 'value:', None\n",
    "print 'Is None True?', None is True\n",
    "print 'Is None False', None is False\n",
    "print 'truth value:', True if None else False"
   ]
  },
  {
   "cell_type": "code",
   "execution_count": 43,
   "metadata": {
    "collapsed": false
   },
   "outputs": [
    {
     "name": "stdout",
     "output_type": "stream",
     "text": [
      "====>None\n",
      "id: 506046664\n",
      "type: <type 'NotImplementedType'>\n",
      "value: NotImplemented\n",
      "Is None True? False\n",
      "Is None False False\n",
      "truth value: True\n"
     ]
    }
   ],
   "source": [
    "\"\"\"\n",
    "NotImplemented: This type has a single value.\n",
    "    Numeric methods and rich comparison methods may return this value \n",
    "    if they do not implement the operation for the operands provided.    \n",
    "\"\"\"\n",
    "print '====>NotImplemented'\n",
    "print 'id:', id(NotImplemented)\n",
    "print 'type:', type(NotImplemented)\n",
    "print 'value:', NotImplemented\n",
    "print 'Is None True?', NotImplemented is True\n",
    "print 'Is None False', NotImplemented is False\n",
    "print 'truth value:', True if NotImplemented else False"
   ]
  },
  {
   "cell_type": "code",
   "execution_count": 3,
   "metadata": {
    "collapsed": false
   },
   "outputs": [
    {
     "name": "stdout",
     "output_type": "stream",
     "text": [
      "====>Ellipsis\n",
      "id: 506058424\n",
      "type: <type 'ellipsis'>\n",
      "value: Ellipsis\n",
      "Is None True? False\n",
      "Is None False False\n",
      "truth value: True\n",
      "====>...\n",
      "return 2 items\n",
      "Returning all items\n",
      "[[[[ 0  1]\n",
      "   [ 2  3]]\n",
      "\n",
      "  [[ 4  5]\n",
      "   [ 6  7]]]\n",
      "\n",
      "\n",
      " [[[ 8  9]\n",
      "   [10 11]]\n",
      "\n",
      "  [[12 13]\n",
      "   [14 15]]]]\n",
      "[[[ 0  2]\n",
      "  [ 4  6]]\n",
      "\n",
      " [[ 8 10]\n",
      "  [12 14]]]\n",
      "[ 0  2  4  6  8 10 12 14]\n",
      "[[[ 0  2]\n",
      "  [ 4  6]]\n",
      "\n",
      " [[ 8 10]\n",
      "  [12 14]]]\n",
      "[ 0  2  4  6  8 10 12 14]\n"
     ]
    }
   ],
   "source": [
    "\"\"\"\n",
    "Ellipsis: This type has a single value. \n",
    "    There is a single object with this value. \n",
    "    This object is accessed through the built-in name Ellipsis. \n",
    "    It is used to indicate the presence of the ... syntax in a slice. \n",
    "    Its truth value is true.\n",
    "\"\"\"\n",
    "print '====>Ellipsis'\n",
    "print 'id:', id(Ellipsis)\n",
    "print 'type:', type(Ellipsis)\n",
    "print 'value:', Ellipsis\n",
    "print 'Is None True?', Ellipsis is True\n",
    "print 'Is None False', Ellipsis is False\n",
    "print 'truth value:', True if Ellipsis else False\n",
    "print '====>...'\n",
    "\n",
    "class TestEllipsis(object):\n",
    "    def __getitem__(self, item):\n",
    "        if item is Ellipsis:\n",
    "            return \"Returning all items\"\n",
    "        else:\n",
    "            return \"return %r items\" % item\n",
    "\n",
    "x = TestEllipsis()\n",
    "print x[2]\n",
    "print x[...]\n",
    "\n",
    "from numpy import arange\n",
    "a = arange(16).reshape(2,2,2,2)\n",
    "print a\n",
    "print a[..., 0]\n",
    "print a[..., 0].flatten()\n",
    "print a[:,:,:,0]\n",
    "print a[:,:,:,0].flatten()"
   ]
  },
  {
   "cell_type": "code",
   "execution_count": 10,
   "metadata": {
    "collapsed": false
   },
   "outputs": [
    {
     "name": "stdout",
     "output_type": "stream",
     "text": [
      "1 \t\t<type 'int'> \t\tTrue\n",
      "1.0 \t\t<type 'float'> \t\tTrue\n",
      "(11+4j) \t<type 'complex'> \tTrue\n"
     ]
    }
   ],
   "source": [
    "\"\"\"\n",
    "numbers:\n",
    "    A hierarchy of numeric abstract base classes.\n",
    "    Implemented in the numbers module (PEP 3141) in CPython, where none of the types defined \n",
    "    in this module can be instantiated.\n",
    "\n",
    "numbers.Number\n",
    "    \n",
    "    These are created by numeric literals and returned as results by arithmetic operators and arithmetic built-in functions. \n",
    "    \n",
    "    Numeric objects are immutable; once created their value never changes. \n",
    "    \n",
    "    Python numbers are of course strongly related to mathematical numbers, but subject to the limitations of numerical \n",
    "    representation in computers.\n",
    "    \n",
    "    The root of the numeric hierarchy. If you just want to check if an argument x is a number, \n",
    "    without caring what kind, use isinstance(x, Number)\n",
    "\"\"\"\n",
    "\n",
    "from numbers import Number\n",
    "a = 1\n",
    "b = 1.0\n",
    "c = complex(11.0,4)\n",
    "print a, '\\t\\t', type(a), '\\t\\t', isinstance(a, Number) \n",
    "print b, '\\t\\t', type(b), '\\t\\t', isinstance(b, Number) \n",
    "print c, '\\t', type(c), '\\t', isinstance(c, Number) \n",
    "\n"
   ]
  },
  {
   "cell_type": "code",
   "execution_count": 28,
   "metadata": {
    "collapsed": false
   },
   "outputs": [
    {
     "name": "stdout",
     "output_type": "stream",
     "text": [
      "====>the smallest and biggest integers\n",
      "-2147483648 56931728 <type 'int'> True True True True\n",
      "2147483647 56932184 <type 'int'> True True True True\n",
      "\n",
      "====>they become long integers when -1 or +1\n",
      "-2147483649 68480896 <type 'long'> True True True True\n",
      "2147483648 68479096 <type 'long'> True True True True\n",
      "\n",
      "====>boolean\n",
      "True 505971488 <type 'bool'> True True True True\n",
      "False 505971464 <type 'bool'> True True True True\n",
      "\n",
      "====>integer operation\n",
      "True\n",
      "True\n",
      "\n",
      "====>real\n",
      "1.0 65153432 <type 'float'> True False True True\n",
      "3.2733906079e+150 65153504 <type 'float'> True False True True\n",
      "\n",
      "====>complex\n",
      "(10-20j) 61344368 <type 'complex'> (10-20j) 10.0 -20.0 True False False True\n",
      "\n"
     ]
    }
   ],
   "source": [
    "\"\"\"\n",
    "numbers.Integral\n",
    "\n",
    "    These represent elements from the mathematical set of integers (positive and negative).\n",
    "\n",
    "    There are three types of integers:\n",
    "\n",
    "    Plain integers\n",
    "        \n",
    "        These represent numbers in the range -2147483648 through 2147483647. \n",
    "            (The range may be larger on machines with a larger natural word size, but not smaller.) \n",
    "        \n",
    "        When the result of an operation would fall outside this range, the result is normally \n",
    "        returned as a long integer (in some cases, the exception OverflowError is raised instead). \n",
    "        \n",
    "        For the purpose of shift and mask operations, integers are assumed to have a binary, \n",
    "        2’s complement notation using 32 or more bits, and hiding no bits from the user \n",
    "        (i.e., all 4294967296 different bit patterns correspond to different values).\n",
    "\n",
    "    Long integers\n",
    "        \n",
    "        These represent numbers in an unlimited range, subject to available (virtual) memory only. \n",
    "        \n",
    "        For the purpose of shift and mask operations, a binary representation is assumed, and \n",
    "        negative numbers are represented in a variant of 2’s complement which gives the illusion \n",
    "        of an infinite string of sign bits extending to the left.\n",
    "\n",
    "    Booleans\n",
    "        \n",
    "        These represent the truth values False and True. \n",
    "        \n",
    "        The two objects representing the values False and True are the only Boolean objects. \n",
    "        \n",
    "        The Boolean type is a subtype of plain integers, and Boolean values behave like \n",
    "        the values 0 and 1, respectively, in almost all contexts, the exception being that \n",
    "        when converted to a string, the strings \"False\" or \"True\" are returned, respectively.\n",
    "\n",
    "    The rules for integer representation are intended to give the most meaningful interpretation \n",
    "    of shift and mask operations involving negative integers and the least surprises \n",
    "    when switching between the plain and long integer domains. \n",
    "    \n",
    "    Any operation, if it yields a result in the plain integer domain, \n",
    "    will yield the same result in the long integer domain or when using mixed operands. \n",
    "    The switch between domains is transparent to the programmer.\n",
    "\n",
    "numbers.Real (float)\n",
    "\n",
    "    These represent machine-level double precision floating point numbers. \n",
    "    \n",
    "    You are at the mercy of the underlying machine architecture (and C or Java implementation) \n",
    "    for the accepted range and handling of overflow. \n",
    "    \n",
    "    Python does not support single-precision floating point numbers; \n",
    "        the savings in processor and memory usage that are usually the reason for using these \n",
    "        are dwarfed by the overhead of using objects in Python, \n",
    "        so there is no reason to complicate the language with two kinds of floating point numbers.\n",
    "\n",
    "numbers.Complex\n",
    "    \n",
    "    These represent complex numbers as a pair of machine-level double precision floating point numbers. \n",
    "    \n",
    "    The same caveats apply as for floating point numbers. \n",
    "    \n",
    "    The real and imaginary parts of a complex number z can be retrieved through the read-only attributes \n",
    "    z.real and z.imag.\n",
    "\n",
    "CPython numbers module (https://docs.python.org/2/library/numbers.html):\n",
    "\n",
    "    Defines a hierarchy of numeric abstract base classes\n",
    "    \n",
    "    numbers.Number\n",
    "        ^\n",
    "        |\n",
    "    numbers.Complex\n",
    "        ^\n",
    "        |\n",
    "    numbers.Real\n",
    "        ^\n",
    "        |\n",
    "    numbers.Rational\n",
    "        ^\n",
    "        |\n",
    "    numbers.Integral\n",
    "    \n",
    "\n",
    "\"\"\"\n",
    "\n",
    "from numbers import Number, Integral, Real, Complex\n",
    "\n",
    "print '====>the smallest and biggest integers'\n",
    "a = -2147483648 \n",
    "b =  2147483647\n",
    "print a, id(a), type(a), isinstance(a, Number), isinstance(a, Integral), isinstance(a, Real), isinstance(a, Complex)\n",
    "print b, id(b), type(b), isinstance(b, Number), isinstance(b, Integral), isinstance(b, Real), isinstance(b, Complex)\n",
    "print\n",
    "\n",
    "print '====>they become long integers when -1 or +1'\n",
    "a  -= 1\n",
    "b  += 1\n",
    "print a, id(a), type(a), isinstance(a, Number), isinstance(a, Integral), isinstance(a, Real), isinstance(a, Complex)\n",
    "print b, id(b), type(b), isinstance(b, Number), isinstance(b, Integral), isinstance(b, Real), isinstance(b, Complex)\n",
    "print\n",
    "\n",
    "print '====>boolean'\n",
    "a  = True\n",
    "b  = False\n",
    "print a, id(a), type(a), isinstance(a, Number), isinstance(a, Integral), isinstance(a, Real), isinstance(a, Complex)\n",
    "print b, id(b), type(b), isinstance(b, Number), isinstance(b, Integral), isinstance(b, Real), isinstance(b, Complex)\n",
    "print \n",
    "\n",
    "print '====>integer operation'\n",
    "print 1+1 == 1L + 1L\n",
    "print 1+1 == 1L + 1\n",
    "print\n",
    "\n",
    "print '====>real'\n",
    "a  = 1.0\n",
    "b  = 2.0**500\n",
    "print a, id(a), type(a), isinstance(a, Number), isinstance(a, Integral), isinstance(a, Real), isinstance(a, Complex)\n",
    "print b, id(b), type(b), isinstance(b, Number), isinstance(b, Integral), isinstance(b, Real), isinstance(b, Complex)\n",
    "print \n",
    "\n",
    "print '====>complex'\n",
    "a  = complex(10,-20)\n",
    "print a, id(a), type(a), str(a), a.real, a.imag, \\\n",
    "    isinstance(a, Number), isinstance(a, Integral), isinstance(a, Real), isinstance(a, Complex)\n",
    "print \n"
   ]
  },
  {
   "cell_type": "code",
   "execution_count": 29,
   "metadata": {
    "collapsed": false
   },
   "outputs": [
    {
     "name": "stdout",
     "output_type": "stream",
     "text": [
      "65535\n"
     ]
    }
   ],
   "source": [
    "\"\"\"\n",
    "Sequences:\n",
    "\n",
    "    Immutable sequences:\n",
    "    \n",
    "        Strings\n",
    "        Unicode\n",
    "        Tuples\n",
    "        \n",
    "    Mutable sequences:\n",
    "    \n",
    "        Lists\n",
    "        Byte Arrays        \n",
    "        The extension module array:\n",
    "            provides an additional example of a mutable sequence type\n",
    "\n",
    "\"\"\"\n",
    "\n",
    "import sys\n",
    "print sys.maxunicode"
   ]
  },
  {
   "cell_type": "code",
   "execution_count": 30,
   "metadata": {
    "collapsed": false
   },
   "outputs": [
    {
     "name": "stdout",
     "output_type": "stream",
     "text": [
      "set([]) 58093640 <type 'set'>\n",
      "frozenset([]) 10440264 <type 'frozenset'>\n"
     ]
    }
   ],
   "source": [
    "\"\"\"\n",
    "Set types:\n",
    "\n",
    "    Sets\n",
    "    Frozen sets\n",
    "    \n",
    "\"\"\"\n",
    "\n",
    "a = set()\n",
    "b = frozenset()\n",
    "print a, id(a), type(a)\n",
    "print b, id(b), type(b)"
   ]
  },
  {
   "cell_type": "code",
   "execution_count": 32,
   "metadata": {
    "collapsed": false
   },
   "outputs": [
    {
     "name": "stdout",
     "output_type": "stream",
     "text": [
      "{} 69804376 <type 'dict'>\n"
     ]
    }
   ],
   "source": [
    "\"\"\"\n",
    "Mappings:\n",
    "\n",
    "    Dictionaries\n",
    "    \n",
    "\"\"\"\n",
    "a = {}\n",
    "print a, id(a), type(a)"
   ]
  },
  {
   "cell_type": "code",
   "execution_count": 37,
   "metadata": {
    "collapsed": false
   },
   "outputs": [
    {
     "name": "stdout",
     "output_type": "stream",
     "text": [
      "<function myFunction at 0x0000000003766208> 58089992 <type 'function'>\n",
      "<unbound method MyClass.method1> 60377200 <type 'instancemethod'>\n",
      "<unbound method MyClass.method2> 60377272 <type 'instancemethod'>\n",
      "<bound method MyClass.method1 of <__main__.MyClass object at 0x0000000004330AC8>> 61603632 <type 'instancemethod'>\n",
      "<bound method MyClass.method2 of <__main__.MyClass object at 0x0000000004330AC8>> 60377200 <type 'instancemethod'>\n"
     ]
    }
   ],
   "source": [
    "\"\"\"\n",
    "Callable types:\n",
    "\n",
    "    User-defined functions\n",
    "    User-defined methods\n",
    "\n",
    "\"\"\"\n",
    "\n",
    "def myFunction():\n",
    "    pass\n",
    "a = myFunction\n",
    "print a, id(a), type(a)\n",
    "\n",
    "class MyClass(object):\n",
    "    \n",
    "    def method1():\n",
    "        pass\n",
    "    \n",
    "    def method2(self):\n",
    "        pass\n",
    "    \n",
    "a = MyClass.method1\n",
    "b = MyClass.method2\n",
    "print a, id(a), type(a)\n",
    "print b, id(b), type(b)\n",
    "mc = MyClass()\n",
    "a = mc.method1\n",
    "b = mc.method2\n",
    "print a, id(a), type(a)\n",
    "print b, id(b), type(b)"
   ]
  },
  {
   "cell_type": "code",
   "execution_count": 3,
   "metadata": {
    "collapsed": false
   },
   "outputs": [
    {
     "name": "stdout",
     "output_type": "stream",
     "text": [
      "<function myFunction at 0x00000000038AB828> 59422760 <type 'function'>\n",
      "0 1 2 3 4 5 6 7 8 9\n",
      "0 1 2 3 4 5 6 7 8 9 \n",
      "STOP\n"
     ]
    }
   ],
   "source": [
    "\"\"\"\n",
    "Callable types:\n",
    "\n",
    "    Generator functions\n",
    "\n",
    "\"\"\"\n",
    "\n",
    "def myFunction():\n",
    "    for i in range(10): \n",
    "        yield i\n",
    "\n",
    "a = myFunction\n",
    "print a, id(a), type(a)\n",
    "\n",
    "for value in myFunction():\n",
    "    print value,\n",
    "print\n",
    "\n",
    "it = myFunction()\n",
    "while 1:\n",
    "    try:\n",
    "        value = it.next()\n",
    "        print value,\n",
    "    except StopIteration as e:\n",
    "        print '\\nSTOP'\n",
    "        break"
   ]
  },
  {
   "cell_type": "code",
   "execution_count": 31,
   "metadata": {
    "collapsed": false
   },
   "outputs": [
    {
     "name": "stdout",
     "output_type": "stream",
     "text": [
      "<built-in function len> 10581960 <type 'builtin_function_or_method'>\n",
      "<built-in function sin> 39483400 <type 'builtin_function_or_method'>\n"
     ]
    },
    {
     "data": {
      "text/plain": [
       "['ArithmeticError',\n",
       " 'AssertionError',\n",
       " 'AttributeError',\n",
       " 'BaseException',\n",
       " 'BufferError',\n",
       " 'BytesWarning',\n",
       " 'DeprecationWarning',\n",
       " 'EOFError',\n",
       " 'Ellipsis',\n",
       " 'EnvironmentError']"
      ]
     },
     "execution_count": 31,
     "metadata": {},
     "output_type": "execute_result"
    }
   ],
   "source": [
    "\"\"\"\n",
    "Callable types:\n",
    "\n",
    "    Built-in functions\n",
    "\n",
    "\"\"\"\n",
    "\n",
    "a = len\n",
    "b = math.sin\n",
    "print a, id(a), type(a)\n",
    "print b, id(b), type(b)\n",
    "\n",
    "dir(__builtins__)[:10]\n"
   ]
  },
  {
   "cell_type": "code",
   "execution_count": 32,
   "metadata": {
    "collapsed": false
   },
   "outputs": [
    {
     "name": "stdout",
     "output_type": "stream",
     "text": [
      "<built-in method append of list object at 0x00000000038B6108> 66342600 <type 'builtin_function_or_method'>\n"
     ]
    },
    {
     "data": {
      "text/plain": [
       "['__add__',\n",
       " '__class__',\n",
       " '__contains__',\n",
       " '__delattr__',\n",
       " '__delitem__',\n",
       " '__delslice__',\n",
       " '__doc__',\n",
       " '__eq__',\n",
       " '__format__',\n",
       " '__ge__']"
      ]
     },
     "execution_count": 32,
     "metadata": {},
     "output_type": "execute_result"
    }
   ],
   "source": [
    "\"\"\"\n",
    "Callable types:\n",
    "\n",
    "    Built-in methods\n",
    "\n",
    "\"\"\"\n",
    "\n",
    "b = []\n",
    "a = b.append\n",
    "\n",
    "print a, id(a), type(a)\n",
    "\n",
    "dir(b)[:10]"
   ]
  },
  {
   "cell_type": "code",
   "execution_count": 22,
   "metadata": {
    "collapsed": false
   },
   "outputs": [
    {
     "name": "stdout",
     "output_type": "stream",
     "text": [
      "1 2 3\n",
      "1 2 3\n",
      "no constructor\n",
      "1 2 3\n",
      "no constructor\n",
      "__call__ get called\n",
      "__call__ get called\n"
     ]
    }
   ],
   "source": [
    "\"\"\"\n",
    "Callable types:\n",
    "\n",
    "    Class Types:\n",
    "    \n",
    "        Class types, or “new-style classes,” are callable. \n",
    "        \n",
    "        These objects normally act as factories for new instances of themselves, \n",
    "        but variations are possible for class types that override __new__(). \n",
    "        \n",
    "        The arguments of the call are passed to __new__() and, in the typical case, \n",
    "        to __init__() to initialize the new instance.\n",
    "        \n",
    "    Classic Classes\n",
    "        \n",
    "        When a class object is called, a new class instance is created and returned. \n",
    "        \n",
    "        This implies a call to the class’s __init__() method if it has one. \n",
    "        \n",
    "        Any arguments are passed on to the __init__() method. \n",
    "        \n",
    "        If there is no __init__() method, the class must be called without arguments.\n",
    "\n",
    "    Class instances\n",
    "    \n",
    "        Class instances are callable only when the class has a __call__() method; \n",
    "        x(arguments) is a shorthand for x.__call__(arguments).\n",
    "\n",
    "\"\"\"\n",
    "\n",
    "class class1(object):\n",
    "    \n",
    "    def __init__(self, a, b, c):\n",
    "        print a, b, c\n",
    "        \n",
    "class1(1,2,3)\n",
    "\n",
    "class class2(object):\n",
    "    \n",
    "    def __new__(self, a, b, c):\n",
    "        print a, b, c\n",
    "        \n",
    "class2(1,2,3)\n",
    "\n",
    "class class3(object):\n",
    "    \n",
    "    def __str__(self):\n",
    "        return 'no constructor'\n",
    "        \n",
    "print class3()\n",
    "\n",
    "class class4:\n",
    "    \n",
    "    def __init__(self, a, b, c):\n",
    "        print a, b, c\n",
    "        \n",
    "class4(1,2,3)\n",
    "\n",
    "class class5:\n",
    "    \n",
    "    def __str__(self):\n",
    "        return 'no constructor'\n",
    "        \n",
    "print class5()\n",
    "\n",
    "class class6:\n",
    "    \n",
    "    def __call__(self):\n",
    "        print '__call__ get called'\n",
    "    \n",
    "class6()()\n",
    "\n",
    "class class7(object):\n",
    "    \n",
    "    def __call__(self):\n",
    "        print '__call__ get called'\n",
    "    \n",
    "class7()()"
   ]
  },
  {
   "cell_type": "code",
   "execution_count": 30,
   "metadata": {
    "collapsed": false
   },
   "outputs": [
    {
     "name": "stdout",
     "output_type": "stream",
     "text": [
      "numpy\n",
      "\n",
      "NumPy\n",
      "===\n",
      "C:\\Anaconda2\\envs\\py2\\lib\\site-packages\\numpy\\__init__.pyc \n",
      "\n",
      "('disp', <function disp at 0x0000000003C064A8>)\n",
      "('union1d', <function union1d at 0x0000000003C83828>)\n",
      "('all', <function all at 0x0000000003A4F358>)\n",
      "('issubsctype', <function issubsctype at 0x0000000003A14908>)\n",
      "('savez', <function savez at 0x0000000003D299E8>)\n",
      "('atleast_2d', <function atleast_2d at 0x0000000003A6EC18>)\n",
      "('restoredot', <function restoredot at 0x0000000003A3ACF8>)\n",
      "('ptp', <function ptp at 0x0000000003A4F4A8>)\n",
      "('PackageLoader', <class 'numpy._import_tools.PackageLoader'>)\n",
      "('ix_', <function ix_ at 0x0000000003C10908>)\n"
     ]
    }
   ],
   "source": [
    "\"\"\"\n",
    "Modules:\n",
    "\n",
    "    Modules are imported by the import statement\n",
    "\n",
    "\"\"\"\n",
    "\n",
    "import numpy as np\n",
    "print np.__name__\n",
    "print np.__doc__[:10]\n",
    "print np.__file__, '\\n'\n",
    "for a in np.__dict__.items()[:10]:\n",
    "    print a"
   ]
  },
  {
   "cell_type": "code",
   "execution_count": 46,
   "metadata": {
    "collapsed": false
   },
   "outputs": [
    {
     "name": "stdout",
     "output_type": "stream",
     "text": [
      "<class '__main__.c1'> <type 'type'> {'test': <function test at 0x0000000003F48198>, '__dict__': <attribute '__dict__' of 'c1' objects>, '__module__': '__main__', '__weakref__': <attribute '__weakref__' of 'c1' objects>, '__doc__': None} __main__ \n",
      "\n",
      "<__main__.c1 object at 0x0000000003F4C2B0> <class '__main__.c1'> {} \n",
      "\n"
     ]
    },
    {
     "data": {
      "text/plain": [
       "['__sizeof__', '__str__', '__subclasshook__', '__weakref__', 'test']"
      ]
     },
     "execution_count": 46,
     "metadata": {},
     "output_type": "execute_result"
    }
   ],
   "source": [
    "\"\"\"\n",
    "Classes:\n",
    "\n",
    "    Both class types (new-style classes) and class objects (old-style/classic classes) \n",
    "    are typically created by class definitions. \n",
    "    \n",
    "    A class has a namespace implemented by a dictionary object.\n",
    "\n",
    "Class instances\n",
    "    \n",
    "    A class instance is created by calling a class object. \n",
    "    \n",
    "    A class instance has a namespace implemented as a dictionary \n",
    "    which is the first place in which attribute references are searched.\n",
    "    \n",
    "    ...\n",
    "\n",
    "\"\"\"\n",
    "\n",
    "class c1(object):\n",
    "    \n",
    "    def test(self):\n",
    "        pass\n",
    "    pass\n",
    "\n",
    "print c1, type(c1), c1.__dict__, c1.__module__, '\\n'\n",
    "a = c1()\n",
    "print a, type(a), a.__dict__, '\\n'\n",
    "dir(c1)[-5:]"
   ]
  },
  {
   "cell_type": "code",
   "execution_count": 47,
   "metadata": {
    "collapsed": false
   },
   "outputs": [
    {
     "name": "stdout",
     "output_type": "stream",
     "text": [
      "test later\n"
     ]
    }
   ],
   "source": [
    "\"\"\"\n",
    "\n",
    "Files:\n",
    "\n",
    "Internal types:\n",
    "\n",
    "    Code objects:\n",
    "    \n",
    "    Frame objects: execution frames\n",
    "    \n",
    "    Traceback objects: stack trace of an exception\n",
    "    \n",
    "    Slice objects: \n",
    "        \n",
    "        Slice objects are used to represent slices when extended slice syntax is used. \n",
    "        e.g., a[i:j:step], a[i:j, k:l], or a[..., i:j].\n",
    "        \n",
    "        Support one method: \n",
    "            slice.indices(self, length)\n",
    "    \n",
    "    Static method objects:\n",
    "    \n",
    "    Class method objects\n",
    "    \n",
    "\"\"\"\n",
    "\n",
    "print 'test later'"
   ]
  },
  {
   "cell_type": "code",
   "execution_count": null,
   "metadata": {
    "collapsed": true
   },
   "outputs": [],
   "source": []
  }
 ],
 "metadata": {
  "kernelspec": {
   "display_name": "Python 2",
   "language": "python",
   "name": "python2"
  },
  "language_info": {
   "codemirror_mode": {
    "name": "ipython",
    "version": 2
   },
   "file_extension": ".py",
   "mimetype": "text/x-python",
   "name": "python",
   "nbconvert_exporter": "python",
   "pygments_lexer": "ipython2",
   "version": "2.7.11"
  }
 },
 "nbformat": 4,
 "nbformat_minor": 0
}
