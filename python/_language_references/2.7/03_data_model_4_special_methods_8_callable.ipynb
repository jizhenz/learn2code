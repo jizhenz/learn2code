{
 "cells": [
  {
   "cell_type": "markdown",
   "metadata": {},
   "source": [
    "### [\\_\\_call\\_\\_](https://docs.python.org/2/reference/datamodel.html#emulating-callable-objects)\n",
    "\n",
    "\t\n",
    "The functionality of \\_\\_call\\_\\_ is just like the overloaded operator of () in C++. \n",
    "\n",
    "- [What is a “callable” in Python?](http://stackoverflow.com/questions/111234/what-is-a-callable-in-python/115349#115349)\n",
    "- [Python internals: how callables work?](http://eli.thegreenplace.net/2012/03/23/python-internals-how-callables-work/)"
   ]
  },
  {
   "cell_type": "code",
   "execution_count": 42,
   "metadata": {
    "collapsed": false
   },
   "outputs": [
    {
     "name": "stdout",
     "output_type": "stream",
     "text": [
      "called\n",
      "called\n",
      "10 10\n",
      "10 10\n",
      "<type 'type'> <type 'int'>\n",
      "Callable?\n",
      "object: [<type 'object'>] True\n",
      "int: [<type 'int'>, <type 'object'>] True       1:    False\n",
      "str: True       'aa': False\n",
      "list: True     []:    False\n",
      "dict: True     {}: False\n",
      "tuple: True     (): False\n",
      "<type 'classobj'> <__main__.Foo instance at 0x0000000003924748>\n",
      "<type 'type'> <__main__.Bar object at 0x00000000039378D0>\n",
      "<type 'function'> 42\n"
     ]
    }
   ],
   "source": [
    "\"\"\"\n",
    "A callable is anything that can be called.\n",
    "\n",
    "object.__call__(self[, args...])\n",
    "\n",
    "    Called when the instance is “called” as a function.\n",
    "    If this method is defined, x(arg1, arg2, ...) == x.__call__(arg1, arg2, ...), for an instance x.\n",
    "\n",
    "\"\"\"\n",
    "\n",
    "class Foo:\n",
    "    def __call__(self):\n",
    "        print 'called'\n",
    "\n",
    "foo_instance = Foo()\n",
    "foo_instance() #this is calling the __call__ method\n",
    "Foo()()        #this is calling the __call__ method\n",
    "\n",
    "\"\"\"\n",
    "That's also why you don't have foo = new int in Python: \n",
    "\n",
    "    you just make the class object return an instance of it on __call__. \n",
    "    The way Python solves this is very elegant in my opinion.\n",
    "    \n",
    "\"\"\"\n",
    "print int('10')  , int.__call__('10')\n",
    "print unicode(10), unicode.__call__(10)\n",
    "print type(int), type(11) # <type 'type'> <type 'int'>\n",
    "\n",
    "print 'Callable?'\n",
    "print 'object:', object.mro(), callable(object)\n",
    "print 'int:', int.mro(), callable(int), '      1:   ',  callable(1)\n",
    "print 'str:', callable(str), \"      'aa':\", callable('aa')\n",
    "print 'list:', callable(list), '    []:   ',  callable([])\n",
    "print 'dict:', callable(dict), \"    {}:\", callable({})\n",
    "print 'tuple:', callable(tuple), \"    ():\", callable(())\n",
    "\n",
    "class Foo:\n",
    "    pass\n",
    "\n",
    "class Bar(object):\n",
    "    pass\n",
    "\n",
    "print type(Foo), type(Foo).__call__(Foo)\n",
    "print type(Bar), type(Bar).__call__(Bar)\n",
    "\n",
    "def foo(bar):\n",
    "    return bar\n",
    "\n",
    "print type(foo), type(foo).__call__(foo, 42)\n"
   ]
  },
  {
   "cell_type": "markdown",
   "metadata": {},
   "source": [
    "##### Internals:\n",
    "\n",
    "The built-in callable (**PyCallable_Check** in [**objects.c**](http://svn.python.org/projects/python/trunk/Objects/object.c) ) checks if the argument is either:\n",
    "    \n",
    "    1. an instance of a class with a __call__ method or\n",
    "    2. is of a type that has a non null tp_call (c struct) member which indicates callability \n",
    "       (such as in functions, methods etc.)\n",
    "       \n",
    "##### In Python 3.x\n",
    "\n",
    "This function callable() was first removed in Python 3.0 and then brought back in Python 3.2.\n"
   ]
  },
  {
   "cell_type": "code",
   "execution_count": 3,
   "metadata": {
    "collapsed": false
   },
   "outputs": [
    {
     "name": "stdout",
     "output_type": "stream",
     "text": [
      "2\n",
      "2\n",
      "53\n"
     ]
    }
   ],
   "source": [
    "\"\"\"\n",
    "Another example: a callable class as a decorator\n",
    "\"\"\"\n",
    "\n",
    "class Cached:\n",
    "    def __init__(self, function):\n",
    "        self.function = function\n",
    "        self.cache = {}\n",
    "\n",
    "    def __call__(self, *args):\n",
    "        try: \n",
    "            return self.cache[args]\n",
    "        except KeyError:\n",
    "            ret = self.cache[args] = self.function(*args)\n",
    "            return ret  \n",
    "        \n",
    "@Cached\n",
    "def ack(x, y):\n",
    "    return ack(x-1, ack(x, y-1)) if x*y else (x + y + 1) \n",
    "\n",
    "print ack(0,1)\n",
    "print ack(1,0)\n",
    "print ack(3,3)"
   ]
  },
  {
   "cell_type": "code",
   "execution_count": 6,
   "metadata": {
    "collapsed": true
   },
   "outputs": [],
   "source": [
    "\"\"\"\n",
    "Example from standard library, file site.py, definition of built-in exit() and quit() functions:\n",
    "\"\"\"\n",
    "\n",
    "class Quitter(object):\n",
    "    def __init__(self, name):\n",
    "        self.name = name\n",
    "    def __repr__(self):\n",
    "        return 'Use %s() or %s to exit' % (self.name, eof)\n",
    "    def __call__(self, code=None):\n",
    "        # Shells like IDLE catch the SystemExit, but listen when their\n",
    "        # stdin wrapper is closed.\n",
    "        try:\n",
    "            sys.stdin.close()\n",
    "        except:\n",
    "            pass\n",
    "        raise SystemExit(code)\n",
    "        \n",
    "__builtin__.quit = Quitter('quit')\n",
    "__builtin__.exit = Quitter('exit')\n"
   ]
  },
  {
   "cell_type": "code",
   "execution_count": 39,
   "metadata": {
    "collapsed": false
   },
   "outputs": [
    {
     "name": "stdout",
     "output_type": "stream",
     "text": [
      "234 Not callable\n",
      "int [<type 'int'>, <type 'object'>] Not callable\n",
      "add() __call__\n",
      "<type 'type'> <type 'int'> <type 'int'>\n"
     ]
    }
   ],
   "source": [
    "x=234\n",
    "\n",
    "print x, \n",
    "_callable = False\n",
    "for i in dir(x):\n",
    "    if i.startswith(\"__call__\"):\n",
    "        print i\n",
    "        _callable = True\n",
    "        break\n",
    "if not _callable:\n",
    "    print 'Not callable'\n",
    "        \n",
    "print 'int', int.mro(), \n",
    "_callable = False\n",
    "for i in dir(int):\n",
    "    if i.startswith(\"__call__\"):\n",
    "        print i\n",
    "        _callable = True\n",
    "        break\n",
    "if not _callable:\n",
    "    print 'Not callable'\n",
    "    \n",
    "def add(x,y):\n",
    "    return x+y\n",
    "\n",
    "print 'add()',\n",
    "_callable = False\n",
    "for i in dir(add):\n",
    "    if i.startswith(\"__call__\"):\n",
    "        print i\n",
    "        _callable = True\n",
    "        break\n",
    "if not _callable:\n",
    "    print 'Not callable'\n",
    "    \n",
    "print type(int), type(x), x.__class__"
   ]
  },
  {
   "cell_type": "markdown",
   "metadata": {},
   "source": [
    "##### Application\n",
    "\n",
    "A Callable is an object that has the `__call__` method. This means you can fake callable functions or do neat things like Partial Function Application where you take a function and add something that enhances it or fills in some of the parameters, returning something that can be called in turn (known as [**Currying**](https://en.wikipedia.org/wiki/Currying) in functional programming circles)."
   ]
  },
  {
   "cell_type": "code",
   "execution_count": null,
   "metadata": {
    "collapsed": true
   },
   "outputs": [],
   "source": []
  }
 ],
 "metadata": {
  "kernelspec": {
   "display_name": "Python 2",
   "language": "python",
   "name": "python2"
  },
  "language_info": {
   "codemirror_mode": {
    "name": "ipython",
    "version": 2
   },
   "file_extension": ".py",
   "mimetype": "text/x-python",
   "name": "python",
   "nbconvert_exporter": "python",
   "pygments_lexer": "ipython2",
   "version": "2.7.11"
  }
 },
 "nbformat": 4,
 "nbformat_minor": 0
}
