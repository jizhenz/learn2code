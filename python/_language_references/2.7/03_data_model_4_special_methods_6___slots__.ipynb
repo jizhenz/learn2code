{
 "cells": [
  {
   "cell_type": "markdown",
   "metadata": {
    "collapsed": false
   },
   "source": [
    "### [\\_\\_slots\\_\\_](https://docs.python.org/2/reference/datamodel.html#slots)\n",
    "\n"
   ]
  },
  {
   "cell_type": "code",
   "execution_count": 3,
   "metadata": {
    "collapsed": false
   },
   "outputs": [
    {
     "name": "stdout",
     "output_type": "stream",
     "text": [
      "16\n",
      "328\n",
      "328\n"
     ]
    }
   ],
   "source": [
    "import sys \n",
    "\n",
    "class class01_slots(object):\n",
    "    __slots__= ()\n",
    "    \n",
    "class class01_no_slots(object):\n",
    "    pass\n",
    "\n",
    "c = class01_slots()\n",
    "print sys.getsizeof(c)\n",
    "c = class01_no_slots()\n",
    "print sys.getsizeof(c) + sys.getsizeof(c.__dict__)\n",
    "c.__dict__['a']='a'\n",
    "print sys.getsizeof(c) + sys.getsizeof(c.__dict__)\n"
   ]
  },
  {
   "cell_type": "code",
   "execution_count": 4,
   "metadata": {
    "collapsed": false
   },
   "outputs": [
    {
     "name": "stdout",
     "output_type": "stream",
     "text": [
      "48\n",
      "328\n"
     ]
    }
   ],
   "source": [
    "class class02_slots(object):\n",
    "    __slots__= ('a',)\n",
    "    def __init__(self):\n",
    "        self.a = 'a'\n",
    "    \n",
    "class class02_no_slots(object):\n",
    "    def __init__(self):\n",
    "        self.a = 'a'\n",
    "        \n",
    "c = class02_slots()\n",
    "print sys.getsizeof(c)\n",
    "c = class02_no_slots()\n",
    "print sys.getsizeof(c) + sys.getsizeof(c.__dict__)"
   ]
  },
  {
   "cell_type": "code",
   "execution_count": 5,
   "metadata": {
    "collapsed": false
   },
   "outputs": [
    {
     "name": "stdout",
     "output_type": "stream",
     "text": [
      "56\n",
      "328\n"
     ]
    }
   ],
   "source": [
    "class class03_slots(object):\n",
    "    __slots__= ('a','b')\n",
    "    def __init__(self):\n",
    "        self.a = 'a'\n",
    "        self.b = 'b'\n",
    "    \n",
    "class class03_no_slots(object):\n",
    "    def __init__(self):\n",
    "        self.a = 'a'\n",
    "        self.b = 'b'\n",
    "        \n",
    "c = class03_slots()\n",
    "print sys.getsizeof(c)\n",
    "c = class03_no_slots()\n",
    "print sys.getsizeof(c) + sys.getsizeof(c.__dict__)\n"
   ]
  },
  {
   "cell_type": "code",
   "execution_count": 14,
   "metadata": {
    "collapsed": false
   },
   "outputs": [
    {
     "name": "stdout",
     "output_type": "stream",
     "text": [
      "120\n",
      "1096\n",
      "B\n",
      "<type 'exceptions.AttributeError'> 'class04_slots' object has no attribute 'x'\n",
      "['__class__', '__delattr__', '__doc__', '__format__', '__getattribute__', '__hash__', '__init__', '__module__', '__new__', '__reduce__', '__reduce_ex__', '__repr__', '__setattr__', '__sizeof__', '__slots__', '__str__', '__subclasshook__', 'a', 'b', 'c', 'd', 'e', 'f', 'g', 'h', 'i', 'j']\n"
     ]
    }
   ],
   "source": [
    "   \n",
    "class class04_slots(object):\n",
    "    __slots__= ('a','b','c','d','e','f','g','h','i','j')\n",
    "    def __init__(self):\n",
    "        self.a = 'a'\n",
    "        self.b = 'b'\n",
    "        self.c = 'c'\n",
    "        self.d = 'd'\n",
    "        self.e = 'e'\n",
    "        self.f = 'f'\n",
    "        self.g = 'g'\n",
    "        self.h = 'h'\n",
    "        self.i = 'i'\n",
    "        self.j = 'j'\n",
    "        \n",
    "class class04_no_slots(object):\n",
    "    def __init__(self):\n",
    "        self.a = 'a'\n",
    "        self.b = 'b'\n",
    "        self.c = 'c'\n",
    "        self.d = 'd'\n",
    "        self.e = 'e'\n",
    "        self.f = 'f'\n",
    "        self.g = 'g'\n",
    "        self.h = 'h'\n",
    "        self.i = 'i'\n",
    "        self.j = 'j'\n",
    "        \n",
    "c = class04_slots()\n",
    "print sys.getsizeof(c)\n",
    "c = class04_no_slots()\n",
    "print sys.getsizeof(c) + sys.getsizeof(c.__dict__)\n",
    "\n",
    "\n",
    "# show access\n",
    "c = class04_slots()\n",
    "c.b = 'B'\n",
    "print c.b\n",
    "try:\n",
    "    c.x = 'X'\n",
    "    print c.x\n",
    "except Exception as e:\n",
    "    print type(e), e\n",
    "    \n",
    "print dir(c) # no __weakref__ , __dict__ , x"
   ]
  },
  {
   "cell_type": "code",
   "execution_count": 15,
   "metadata": {
    "collapsed": false
   },
   "outputs": [
    {
     "name": "stdout",
     "output_type": "stream",
     "text": [
      "B\n",
      "X\n",
      "['__class__', '__delattr__', '__dict__', '__doc__', '__format__', '__getattribute__', '__hash__', '__init__', '__module__', '__new__', '__reduce__', '__reduce_ex__', '__repr__', '__setattr__', '__sizeof__', '__str__', '__subclasshook__', '__weakref__', 'a', 'b', 'c', 'd', 'e', 'f', 'g', 'h', 'i', 'j', 'x']\n"
     ]
    }
   ],
   "source": [
    "c = class04_no_slots()\n",
    "c.b = 'B'\n",
    "print c.b\n",
    "try:\n",
    "    c.x = 'X'\n",
    "    print c.x\n",
    "except Exception as e:\n",
    "    print type(e), e\n",
    "    \n",
    "print dir(c) # no __slots__"
   ]
  },
  {
   "cell_type": "code",
   "execution_count": null,
   "metadata": {
    "collapsed": true
   },
   "outputs": [],
   "source": []
  }
 ],
 "metadata": {
  "kernelspec": {
   "display_name": "Python 2",
   "language": "python",
   "name": "python2"
  },
  "language_info": {
   "codemirror_mode": {
    "name": "ipython",
    "version": 2
   },
   "file_extension": ".py",
   "mimetype": "text/x-python",
   "name": "python",
   "nbconvert_exporter": "python",
   "pygments_lexer": "ipython2",
   "version": "2.7.11"
  }
 },
 "nbformat": 4,
 "nbformat_minor": 0
}
