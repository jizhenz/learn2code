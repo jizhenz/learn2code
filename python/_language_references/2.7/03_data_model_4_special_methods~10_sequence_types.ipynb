{
 "cells": [
  {
   "cell_type": "markdown",
   "metadata": {},
   "source": [
    "##### Additional For Sequence Types"
   ]
  },
  {
   "cell_type": "markdown",
   "metadata": {
    "collapsed": true
   },
   "source": [
    "<tr><td>`object.__getslice__(self, i, j) `</td><td>`self[i:j] `</td></tr>\n",
    "<tr><td>`object.__setslice__(self, i, j, sequence) `</td><td>`self[i:j] = ... `</td></tr>\n",
    "<tr><td>`object.__delslice__(self, i, j) `</td><td>`del self[i:j] `</td></tr>"
   ]
  },
  {
   "cell_type": "code",
   "execution_count": 1,
   "metadata": {
    "collapsed": true
   },
   "outputs": [],
   "source": [
    "import sys\n",
    "\n",
    "\"\"\"\n",
    "Demonstrate how to make your program or module compatible with earlier versions of Python \n",
    "(assuming that methods __getitem__(), __setitem__() and __delitem__() \n",
    "support slice objects as arguments)\n",
    "\n",
    "\"\"\"\n",
    "\n",
    "class MyClass:\n",
    "    def __getitem__(self, index):\n",
    "        return 1\n",
    "    def __setitem__(self, index, value):\n",
    "        pass\n",
    "    def __delitem__(self, index):\n",
    "        pass\n",
    "\n",
    "    if sys.version_info < (2, 0):\n",
    "        # They won't be defined if version is at least 2.0 final\n",
    "\n",
    "        def __getslice__(self, i, j):\n",
    "            return self[max(0, i):max(0, j):]\n",
    "        def __setslice__(self, i, j, seq):\n",
    "            self[max(0, i):max(0, j):] = seq\n",
    "        def __delslice__(self, i, j):\n",
    "            del self[max(0, i):max(0, j):]"
   ]
  },
  {
   "cell_type": "code",
   "execution_count": null,
   "metadata": {
    "collapsed": true
   },
   "outputs": [],
   "source": []
  }
 ],
 "metadata": {
  "kernelspec": {
   "display_name": "Python 2",
   "language": "python",
   "name": "python2"
  },
  "language_info": {
   "codemirror_mode": {
    "name": "ipython",
    "version": 2
   },
   "file_extension": ".py",
   "mimetype": "text/x-python",
   "name": "python",
   "nbconvert_exporter": "python",
   "pygments_lexer": "ipython2",
   "version": "2.7.11"
  }
 },
 "nbformat": 4,
 "nbformat_minor": 0
}
