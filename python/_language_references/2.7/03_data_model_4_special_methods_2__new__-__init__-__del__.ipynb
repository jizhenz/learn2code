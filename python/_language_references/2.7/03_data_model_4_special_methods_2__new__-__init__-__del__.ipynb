{
 "cells": [
  {
   "cell_type": "code",
   "execution_count": 5,
   "metadata": {
    "collapsed": false
   },
   "outputs": [
    {
     "name": "stdout",
     "output_type": "stream",
     "text": [
      "\n"
     ]
    }
   ],
   "source": [
    "\"\"\"\n",
    "__new__ \n",
    "    object.__new__(cls[, ...])\n",
    "    \n",
    "__init__\n",
    "    object.__init__(self[, ...])\n",
    "    \n",
    "Fore new-style classes:\n",
    "\n",
    "__new__: \n",
    "    1. object creation - constructor - to create \n",
    "    2. static method: cls as it's first parameter\n",
    "    3. called automatically when calling the class name (when instantiating)\n",
    "       usually using super(currentclass, cls).__new__(cls[, ...])\n",
    "    4. no self exists yet\n",
    "    \n",
    "__init__: \n",
    "    1. object initialization - initializer - to customise\n",
    "    2. called after __new__, if __new__ return an instance\n",
    "    3. self is in place\n",
    "    4. self as it's first parameter\n",
    "    5. no non-None value may be returned by __init__(), \n",
    "       cause TypeError to be raised at runtime if doing so\n",
    "\n",
    "Fore old-style classes:\n",
    "\n",
    "    1. don't actually have a __new__ method because for them \n",
    "    2. __init__ is the constructor\n",
    "    \n",
    "\"\"\"\n",
    "\n",
    "print "
   ]
  },
  {
   "cell_type": "code",
   "execution_count": 2,
   "metadata": {
    "collapsed": false
   },
   "outputs": [
    {
     "name": "stdout",
     "output_type": "stream",
     "text": [
      "A.__init__ called\n",
      "<__main__.A instance at 0x00000000038930C8>\n",
      "------>\n",
      "<type 'exceptions.TypeError'> __init__() should return None \n",
      "------>\n"
     ]
    }
   ],
   "source": [
    "\"\"\"\n",
    "Olde style\n",
    "\"\"\"\n",
    "\n",
    "\n",
    "class A:\n",
    "    \n",
    "    def __new__(cls):\n",
    "        '''the body of __new__ will never be executed in this case \n",
    "           because it is not the purpose for old-style classes.\n",
    "        '''\n",
    "        print \"A.__new__ is called\"  # -> this is never called\n",
    "        \n",
    "    def __init__(self):\n",
    "        print \"A.__init__ called\"\n",
    "        \n",
    "a1 = A()\n",
    "print a1\n",
    "\n",
    "class A:\n",
    "\n",
    "    def __init__(self):\n",
    "        '''can't control what to return \n",
    "           when instantiating the old-style class.\n",
    "        '''\n",
    "        return 29\n",
    "try:\n",
    "    A()\n",
    "except Exception as e:\n",
    "    print '------>\\n', type(e), e, '\\n------>'"
   ]
  },
  {
   "cell_type": "code",
   "execution_count": 3,
   "metadata": {
    "collapsed": false
   },
   "outputs": [
    {
     "name": "stdout",
     "output_type": "stream",
     "text": [
      "A.__new__ called\n",
      "A.__init__ called\n",
      "<__main__.A object at 0x000000000389CEB8>\n",
      "A.__new__ called\n",
      "None\n",
      "A.__new__ called\n",
      "29 <type 'int'>\n",
      "A.__init__ called\n",
      "------>\n",
      "<type 'exceptions.TypeError'> __init__() should return None, not 'int' \n",
      "------>\n"
     ]
    }
   ],
   "source": [
    "\"\"\"\n",
    "New style\n",
    "\"\"\"\n",
    "\n",
    "class A(object):  \n",
    "    ''' -> don't forget the object specified as base'''\n",
    "    def __new__(cls):\n",
    "        print \"A.__new__ called\"\n",
    "        return super(A, cls).__new__(cls)\n",
    "\n",
    "    def __init__(self):\n",
    "        print \"A.__init__ called\"\n",
    "\n",
    "a2 = A()\n",
    "print a2\n",
    "\n",
    "class A(object):\n",
    "    ''' If __new__() does not return an instance of cls, \n",
    "        then the new instance’s __init__() method will not be invoked\n",
    "    '''\n",
    "\n",
    "    def __new__(cls):\n",
    "        print \"A.__new__ called\"\n",
    "\n",
    "    def __init__(self):\n",
    "        '''# -> is actually never called\n",
    "        '''\n",
    "        print \"A.__init__ called\"  \n",
    "\n",
    "a3 = A()\n",
    "print a3\n",
    "\n",
    "\"\"\" this shows why need the call:\n",
    "    super(A, cls).__new__(cls) \n",
    "\"\"\"\n",
    "class A(object):\n",
    "\n",
    "    def __new__(cls):\n",
    "        print \"A.__new__ called\"\n",
    "        return 29\n",
    "\n",
    "a = A()\n",
    "print a, type(a)\n",
    "\n",
    "class A(object):\n",
    "\n",
    "    def __init__(self):\n",
    "        print \"A.__init__ called\" \n",
    "        return 33  # -> TypeError: __init__ should return None\n",
    "                   #    since it's purpose is just to alter the fresh state of the newly created instance\n",
    "\n",
    "try:\n",
    "    A()\n",
    "except Exception as e:\n",
    "    print '------>\\n', type(e), e, '\\n------>'"
   ]
  },
  {
   "cell_type": "code",
   "execution_count": null,
   "metadata": {
    "collapsed": true
   },
   "outputs": [],
   "source": [
    "\"\"\"\n",
    "More tweets - Are these good or not? Who knows!!\n",
    "\"\"\"\n",
    "\n",
    "class Sample(object):\n",
    "    \n",
    "    def __str__(self):\n",
    "        return \"SAMPLE\"\n",
    "    \n",
    "class A(object):\n",
    "\n",
    "    def __new__(cls):\n",
    "        return Sample()\n",
    "    \n",
    "print A()\n",
    "\n",
    "class A(object):\n",
    "\n",
    "    def __new__(cls):\n",
    "        return super(A, cls).__new__(Sample) # same as Sample()\n",
    "    \n",
    "print A()"
   ]
  },
  {
   "cell_type": "code",
   "execution_count": 6,
   "metadata": {
    "collapsed": false
   },
   "outputs": [
    {
     "name": "stdout",
     "output_type": "stream",
     "text": [
      "\n"
     ]
    }
   ],
   "source": [
    "\"\"\"\n",
    "__del__:\n",
    "    object.__del__(self)\n",
    "    \n",
    "1. Called when the instance is about to be destroyed. \n",
    "2. also called a destructor. \n",
    "3. If a base class has a __del__() method, the derived class’s __del__() method (if exists) \n",
    "   must explicitly call it to ensure proper deletion of the base class part of the instance. \n",
    "4. del x doesn’t directly call x.__del__() \n",
    "   — the former decrements the reference count for x by one, and \n",
    "   — the latter is only called when x‘s reference count reaches zero. \n",
    "   \n",
    "5. Some common situations that may prevent the reference count of an object from going to zero include: \n",
    "   — circular references between objects (e.g., a doubly-linked list or a tree data structure with parent and child pointers); \n",
    "     can only be remedied by explicitly breaking the cycles\n",
    "   — a reference to the object on the stack frame of a function that caught an exception \n",
    "     (the traceback stored in sys.exc_traceback keeps the stack frame alive); \n",
    "     can be resolved by storing None in sys.exc_traceback or sys.last_traceback. \n",
    "     or \n",
    "   — a reference to the object on the stack frame that raised an unhandled exception in interactive mode \n",
    "     (the traceback stored in sys.last_traceback keeps the stack frame alive). \n",
    "     can be resolved by storing None in sys.exc_traceback or sys.last_traceback\n",
    "\n",
    "6. Circular references which are garbage detected when the option cycle detector is enabled (it’s on by default), \n",
    "   ut can only be cleaned up if there are no Python-level __del__() methods involved. \n",
    "   Refer to the documentation for the gc module for more information \n",
    "   about how __del__() methods are handled by the cycle detector, \n",
    "   particularly the description of the garbage value.\n",
    "   \n",
    "7. Warning !!\n",
    "   exceptions that occur during __del__ execution are ignored, \n",
    "   and a warning is printed to sys.stderr instead.\n",
    "\n",
    "8. Also, when __del__() is invoked in response to a module being deleted \n",
    "        (e.g., when execution of the program is done), \n",
    "   other globals referenced by the __del__() method may already have been deleted \n",
    "   or in the process of being torn down (e.g. the import machinery shutting down). \n",
    "   \n",
    "   For this reason, __del__() methods should do the \n",
    "   \n",
    "     !!==> absolute minimum needed <==!!\n",
    "   \n",
    "   to maintain external invariants. \n",
    "   \n",
    "   Starting with version 1.5, Python guarantees that globals whose name begins with \n",
    "     a single underscore are deleted from their module before other globals are deleted,\n",
    "     if no other references to such globals exist;\n",
    "   this may help in assuring that imported modules are still available at the time \n",
    "   when the __del__() method is called.\n",
    "\n",
    "9. See also the -R command-line option.\n",
    "\n",
    "\"\"\"\n",
    "\n",
    "print"
   ]
  },
  {
   "cell_type": "code",
   "execution_count": 9,
   "metadata": {
    "collapsed": false
   },
   "outputs": [
    {
     "name": "stdout",
     "output_type": "stream",
     "text": [
      " base class's __del__ not called\n",
      "class2's __dell_ called\n",
      " base class's __del__ called\n",
      "class1's __dell_ called\n",
      "class2's __dell_ called\n"
     ]
    }
   ],
   "source": [
    "class class1(object):\n",
    "    \n",
    "    def __del__(self):\n",
    "        print \"class1's __dell_ called\"\n",
    "        \n",
    "class class2(class1):\n",
    "    \n",
    "    def __del__(self):\n",
    "        print \"class2's __dell_ called\"\n",
    "\n",
    "print ''' base class's __del__ not called'''\n",
    "c = class2()\n",
    "del c\n",
    "\n",
    "class class2(class1):\n",
    "    \n",
    "    def __del__(self):\n",
    "        super(class2, self).__del__()\n",
    "        print \"class2's __dell_ called\"\n",
    "\n",
    "print ''' base class's __del__ called'''\n",
    "c = class2()\n",
    "del c\n"
   ]
  },
  {
   "cell_type": "code",
   "execution_count": 19,
   "metadata": {
    "collapsed": false
   },
   "outputs": [
    {
     "name": "stdout",
     "output_type": "stream",
     "text": [
      "self.x is undefined for A(0): exception\n"
     ]
    },
    {
     "name": "stderr",
     "output_type": "stream",
     "text": [
      "Exception AttributeError: \"'A' object has no attribute 'x'\" in <bound method A.__del__ of <__main__.A object at 0x00000000036868D0>> ignored\n"
     ]
    },
    {
     "ename": "Exception",
     "evalue": "cannot be 0!",
     "output_type": "error",
     "traceback": [
      "\u001b[1;31m---------------------------------------------------------------------------\u001b[0m",
      "\u001b[1;31mException\u001b[0m                                 Traceback (most recent call last)",
      "\u001b[1;32m<ipython-input-19-0c705efbb96e>\u001b[0m in \u001b[0;36m<module>\u001b[1;34m()\u001b[0m\n\u001b[0;32m     11\u001b[0m \u001b[1;33m\u001b[0m\u001b[0m\n\u001b[0;32m     12\u001b[0m \u001b[1;32mprint\u001b[0m \u001b[1;34m'''self.x is undefined for A(0): exception'''\u001b[0m\u001b[1;33m\u001b[0m\u001b[0m\n\u001b[1;32m---> 13\u001b[1;33m \u001b[0mA\u001b[0m\u001b[1;33m(\u001b[0m\u001b[1;36m0\u001b[0m\u001b[1;33m)\u001b[0m\u001b[1;33m\u001b[0m\u001b[0m\n\u001b[0m",
      "\u001b[1;32m<ipython-input-19-0c705efbb96e>\u001b[0m in \u001b[0;36m__init__\u001b[1;34m(self, x)\u001b[0m\n\u001b[0;32m      5\u001b[0m     \u001b[1;32mdef\u001b[0m \u001b[0m__init__\u001b[0m\u001b[1;33m(\u001b[0m\u001b[0mself\u001b[0m\u001b[1;33m,\u001b[0m\u001b[0mx\u001b[0m\u001b[1;33m)\u001b[0m\u001b[1;33m:\u001b[0m\u001b[1;33m\u001b[0m\u001b[0m\n\u001b[0;32m      6\u001b[0m         \u001b[1;32mif\u001b[0m \u001b[0mx\u001b[0m \u001b[1;33m==\u001b[0m \u001b[1;36m0\u001b[0m\u001b[1;33m:\u001b[0m\u001b[1;33m\u001b[0m\u001b[0m\n\u001b[1;32m----> 7\u001b[1;33m             \u001b[1;32mraise\u001b[0m \u001b[0mException\u001b[0m\u001b[1;33m(\u001b[0m\u001b[1;34m'cannot be 0!'\u001b[0m\u001b[1;33m)\u001b[0m\u001b[1;33m\u001b[0m\u001b[0m\n\u001b[0m\u001b[0;32m      8\u001b[0m         \u001b[0mself\u001b[0m\u001b[1;33m.\u001b[0m\u001b[0mx\u001b[0m \u001b[1;33m=\u001b[0m \u001b[0mx\u001b[0m\u001b[1;33m\u001b[0m\u001b[0m\n\u001b[0;32m      9\u001b[0m     \u001b[1;32mdef\u001b[0m \u001b[0m__del__\u001b[0m\u001b[1;33m(\u001b[0m\u001b[0mself\u001b[0m\u001b[1;33m)\u001b[0m\u001b[1;33m:\u001b[0m\u001b[1;33m\u001b[0m\u001b[0m\n",
      "\u001b[1;31mException\u001b[0m: cannot be 0!"
     ]
    }
   ],
   "source": [
    "\"\"\"\n",
    "__del__ is not the opsite of __init__\n",
    "\"\"\"\n",
    "class A(object):\n",
    "    def __init__(self,x):\n",
    "        if x == 0:\n",
    "            raise Exception('cannot be 0!')\n",
    "        self.x = x\n",
    "    def __del__(self):\n",
    "        print self.x\n",
    "        \n",
    "print '''self.x is undefined for A(0): exception'''\n",
    "A(0)"
   ]
  },
  {
   "cell_type": "code",
   "execution_count": 16,
   "metadata": {
    "collapsed": false
   },
   "outputs": [
    {
     "name": "stdout",
     "output_type": "stream",
     "text": [
      "1\n"
     ]
    },
    {
     "ename": "Exception",
     "evalue": "cannot be 0!",
     "output_type": "error",
     "traceback": [
      "\u001b[1;31m---------------------------------------------------------------------------\u001b[0m",
      "\u001b[1;31mException\u001b[0m                                 Traceback (most recent call last)",
      "\u001b[1;32m<ipython-input-16-2e2ea557351b>\u001b[0m in \u001b[0;36m<module>\u001b[1;34m()\u001b[0m\n\u001b[0;32m     12\u001b[0m \u001b[1;33m\u001b[0m\u001b[0m\n\u001b[0;32m     13\u001b[0m \u001b[0mA\u001b[0m\u001b[1;33m(\u001b[0m\u001b[1;36m1\u001b[0m\u001b[1;33m)\u001b[0m\u001b[1;33m\u001b[0m\u001b[0m\n\u001b[1;32m---> 14\u001b[1;33m \u001b[0mA\u001b[0m\u001b[1;33m(\u001b[0m\u001b[1;36m0\u001b[0m\u001b[1;33m)\u001b[0m\u001b[1;33m\u001b[0m\u001b[0m\n\u001b[0m",
      "\u001b[1;32m<ipython-input-16-2e2ea557351b>\u001b[0m in \u001b[0;36m__init__\u001b[1;34m(self, x)\u001b[0m\n\u001b[0;32m      6\u001b[0m         \u001b[0mself\u001b[0m\u001b[1;33m.\u001b[0m\u001b[0mx\u001b[0m \u001b[1;33m=\u001b[0m \u001b[0mx\u001b[0m\u001b[1;33m\u001b[0m\u001b[0m\n\u001b[0;32m      7\u001b[0m         \u001b[1;32mif\u001b[0m \u001b[0mself\u001b[0m\u001b[1;33m.\u001b[0m\u001b[0mx\u001b[0m \u001b[1;33m==\u001b[0m \u001b[1;36m0\u001b[0m\u001b[1;33m:\u001b[0m\u001b[1;33m\u001b[0m\u001b[0m\n\u001b[1;32m----> 8\u001b[1;33m             \u001b[1;32mraise\u001b[0m \u001b[0mException\u001b[0m\u001b[1;33m(\u001b[0m\u001b[1;34m'cannot be 0!'\u001b[0m\u001b[1;33m)\u001b[0m\u001b[1;33m\u001b[0m\u001b[0m\n\u001b[0m\u001b[0;32m      9\u001b[0m     \u001b[1;32mdef\u001b[0m \u001b[0m__del__\u001b[0m\u001b[1;33m(\u001b[0m\u001b[0mself\u001b[0m\u001b[1;33m)\u001b[0m\u001b[1;33m:\u001b[0m\u001b[1;33m\u001b[0m\u001b[0m\n\u001b[0;32m     10\u001b[0m         \u001b[1;32mif\u001b[0m \u001b[0mself\u001b[0m\u001b[1;33m.\u001b[0m\u001b[0mx\u001b[0m\u001b[1;33m:\u001b[0m\u001b[1;33m\u001b[0m\u001b[0m\n",
      "\u001b[1;31mException\u001b[0m: cannot be 0!"
     ]
    }
   ],
   "source": [
    "\"\"\"\n",
    "the fix of the above\n",
    "\"\"\"\n",
    "class A(object):\n",
    "    def __init__(self,x):\n",
    "        self.x = x\n",
    "        if self.x == 0:\n",
    "            raise Exception('cannot be 0!')\n",
    "    def __del__(self):\n",
    "        if self.x:\n",
    "            print self.x\n",
    "        \n",
    "A(1)\n",
    "A(0)"
   ]
  },
  {
   "cell_type": "code",
   "execution_count": null,
   "metadata": {
    "collapsed": true
   },
   "outputs": [],
   "source": []
  }
 ],
 "metadata": {
  "kernelspec": {
   "display_name": "Python 2",
   "language": "python",
   "name": "python2"
  },
  "language_info": {
   "codemirror_mode": {
    "name": "ipython",
    "version": 2
   },
   "file_extension": ".py",
   "mimetype": "text/x-python",
   "name": "python",
   "nbconvert_exporter": "python",
   "pygments_lexer": "ipython2",
   "version": "2.7.11"
  }
 },
 "nbformat": 4,
 "nbformat_minor": 0
}
