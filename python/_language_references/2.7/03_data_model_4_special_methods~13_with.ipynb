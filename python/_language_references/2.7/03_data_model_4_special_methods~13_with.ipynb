{
 "cells": [
  {
   "cell_type": "markdown",
   "metadata": {},
   "source": [
    "### [With Statement Context Managers](https://docs.python.org/2/reference/datamodel.html#with-statement-context-managers)\n",
    "\n",
    "```\n",
    "object.__enter__(self)\n",
    "    \n",
    "    Enter the runtime context related to this object. \n",
    "    \n",
    "    The with statement will bind this method’s return value to the target(s) \n",
    "    specified in the as clause of the statement, if any.\n",
    "\n",
    "object.__exit__(self, exc_type, exc_value, traceback)\n",
    "\n",
    "    Exit the runtime context related to this object. \n",
    "    \n",
    "    The parameters describe the exception that caused the context to be exited. \n",
    "    \n",
    "    If the context was exited without an exception, all three arguments will be None.\n",
    "\n",
    "```"
   ]
  },
  {
   "cell_type": "code",
   "execution_count": null,
   "metadata": {
    "collapsed": true
   },
   "outputs": [],
   "source": []
  }
 ],
 "metadata": {
  "kernelspec": {
   "display_name": "Python 2",
   "language": "python",
   "name": "python2"
  },
  "language_info": {
   "codemirror_mode": {
    "name": "ipython",
    "version": 2
   },
   "file_extension": ".py",
   "mimetype": "text/x-python",
   "name": "python",
   "nbconvert_exporter": "python",
   "pygments_lexer": "ipython2",
   "version": "2.7.11"
  }
 },
 "nbformat": 4,
 "nbformat_minor": 0
}
