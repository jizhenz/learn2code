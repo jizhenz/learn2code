{
 "cells": [
  {
   "cell_type": "markdown",
   "metadata": {},
   "source": [
    "### Meta Classes and Abstract Base Classes (ABCs)\n",
    "\n",
    "- [Customizing class creation](https://docs.python.org/2/reference/datamodel.html#customizing-class-creation)\n",
    "\n",
    "- [Customizing instance and subclass checks](https://docs.python.org/2/reference/datamodel.html#customizing-instance-and-subclass-checks)\n",
    "\n",
    "- [What is a meta class in Python? - StackOverflow](http://stackoverflow.com/questions/100003/what-is-a-metaclass-in-python)\n",
    "\n"
   ]
  },
  {
   "cell_type": "code",
   "execution_count": null,
   "metadata": {
    "collapsed": true
   },
   "outputs": [],
   "source": []
  }
 ],
 "metadata": {
  "kernelspec": {
   "display_name": "Python 2",
   "language": "python",
   "name": "python2"
  },
  "language_info": {
   "codemirror_mode": {
    "name": "ipython",
    "version": 2
   },
   "file_extension": ".py",
   "mimetype": "text/x-python",
   "name": "python",
   "nbconvert_exporter": "python",
   "pygments_lexer": "ipython2",
   "version": "2.7.11"
  }
 },
 "nbformat": 4,
 "nbformat_minor": 0
}
