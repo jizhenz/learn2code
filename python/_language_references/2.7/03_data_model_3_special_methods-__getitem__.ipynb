{
 "cells": [
  {
   "cell_type": "markdown",
   "metadata": {},
   "source": [
    "### 3.4.Special method names\n",
    "\n",
    "A class can implement certain operations that are invoked by special syntax (such as arithmetic operations or subscripting and slicing) by defining methods with special names. \n",
    "\n",
    "This is Python’s approach to operator overloading, allowing classes to define their own behavior with respect to language operators. \n",
    "\n",
    "```\n",
    "For instance, if a class defines a method named __getitem__(), and x is an instance of this class, \n",
    "\n",
    "then x[i] is roughly equivalent to x.__getitem__(i) for old-style classes and \n",
    "type(x).__getitem__(x, i) for new-style classes. \n",
    "\n",
    "Except where mentioned, attempts to execute an operation raise an exception when no appropriate method is defined (typically AttributeError or TypeError).\n",
    "```\n",
    "\n",
    "When implementing a class that emulates any built-in type, it is important that the emulation only be implemented to the degree that it makes sense for the object being modelled. \n",
    "\n",
    "    For example, some sequences may work well with retrieval of individual elements, but extracting a slice may not make sense. (e.g. the NodeList interface in the W3C’s Document Object Model.)"
   ]
  },
  {
   "cell_type": "code",
   "execution_count": 1,
   "metadata": {
    "collapsed": false
   },
   "outputs": [
    {
     "name": "stdout",
     "output_type": "stream",
     "text": [
      "9 9\n",
      "8 8 8 8\n",
      "unbound method __getitem__() must be called with new_class instance as first argument (got int instance instead)\n"
     ]
    }
   ],
   "source": [
    "\"\"\"\n",
    "__getitem__()\n",
    "\n",
    "\"\"\"\n",
    "class old_class:\n",
    "    def __getitem__(self,i):\n",
    "        return i\n",
    "\n",
    "x = old_class()\n",
    "print x[9], x.__getitem__(9)\n",
    "\n",
    "class new_class(object):\n",
    "    def __getitem__(self,i):\n",
    "        return i\n",
    "\n",
    "x = new_class()\n",
    "print x[8], x.__getitem__(8), new_class.__getitem__(x, 8), type(x).__getitem__(x, 8)\n",
    "\n",
    "try:\n",
    "    print new_class.__getitem__(8)\n",
    "except Exception as e:\n",
    "    print e"
   ]
  },
  {
   "cell_type": "code",
   "execution_count": null,
   "metadata": {
    "collapsed": true
   },
   "outputs": [],
   "source": []
  }
 ],
 "metadata": {
  "kernelspec": {
   "display_name": "Python 2",
   "language": "python",
   "name": "python2"
  },
  "language_info": {
   "codemirror_mode": {
    "name": "ipython",
    "version": 2
   },
   "file_extension": ".py",
   "mimetype": "text/x-python",
   "name": "python",
   "nbconvert_exporter": "python",
   "pygments_lexer": "ipython2",
   "version": "2.7.11"
  }
 },
 "nbformat": 4,
 "nbformat_minor": 0
}
