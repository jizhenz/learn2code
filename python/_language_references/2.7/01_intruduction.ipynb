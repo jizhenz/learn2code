{
 "cells": [
  {
   "cell_type": "markdown",
   "metadata": {},
   "source": [
    "### [Intruduction](https://docs.python.org/2/reference/introduction.html)\n",
    "\n",
    "#### Alternative Implementations:\n",
    "\n",
    "- [CPython](https://www.python.org/): implemented in C\n",
    "- [Jython](http://www.jython.org/): implemented in Java\n",
    "- [Python for .Net](https://pythonnet.github.io/): uses CPython, .Net libraries are made available\n",
    "- [IronPython](http://ironpython.net/): a complete implementation that generates IL and compiles Python code to .Net assemblies.\n",
    "- [PyPy](http://pypy.org/): implemented using CPython. Stackless, JIT (Just In Time) compiler, etc.\n",
    "\n",
    "#### Notation\n",
    "\n",
    "- [BNF (Backus-Naur Form)](https://en.wikipedia.org/wiki/Backus%E2%80%93Naur_Form)"
   ]
  },
  {
   "cell_type": "code",
   "execution_count": null,
   "metadata": {
    "collapsed": true
   },
   "outputs": [],
   "source": []
  }
 ],
 "metadata": {
  "kernelspec": {
   "display_name": "Python 2",
   "language": "python",
   "name": "python2"
  },
  "language_info": {
   "codemirror_mode": {
    "name": "ipython",
    "version": 2
   },
   "file_extension": ".py",
   "mimetype": "text/x-python",
   "name": "python",
   "nbconvert_exporter": "python",
   "pygments_lexer": "ipython2",
   "version": "2.7.10"
  }
 },
 "nbformat": 4,
 "nbformat_minor": 0
}
