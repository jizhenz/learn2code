{
 "cells": [
  {
   "cell_type": "code",
   "execution_count": 1,
   "metadata": {
    "collapsed": false
   },
   "outputs": [
    {
     "name": "stdout",
     "output_type": "stream",
     "text": [
      "\n"
     ]
    }
   ],
   "source": [
    "\"\"\"\n",
    "object.__getattr__(self, name):\n",
    "\n",
    "    1. Called when an attribute lookup has NOT found the attribute in the usual places \n",
    "       (i.e. it is not an instance attribute nor is it found in the class tree for self). \n",
    "       This is an intentional asymmetry between __getattr__() and __setattr__()\n",
    "    2. name is the attribute name. This method should return the (computed) attribute value \n",
    "       or raise an AttributeError exception.\n",
    "       \n",
    "object.__setattr__(self, name, value):\n",
    "\n",
    "    1. Called when an attribute assignment is attempted. \n",
    "    2. This is called instead of the normal mechanism \n",
    "       (i.e. store the value in the instance dictionary). \n",
    "    3. name is the attribute name, value is the value to be assigned to it.\n",
    "    4. If __setattr__() wants to assign to an instance attribute, \n",
    "       it should NOT simply execute \n",
    "       \n",
    "           self.name = value \n",
    "           \n",
    "       — this would cause a recursive call to itself. \n",
    "       Instead, it should insert the value in the dictionary of instance attributes, e.g., \n",
    "       \n",
    "           self.__dict__[name] = value\n",
    "           \n",
    "       For new-style classes, rather than accessing the instance dictionary, \n",
    "       it should call the base class method with the same name, for example, \n",
    "       \n",
    "           object.__setattr__(self, name, value).\n",
    "\n",
    "object.__delattr__(self, name)\n",
    "\n",
    "    1. Like __setattr__() but for attribute deletion instead of assignment. \n",
    "    2. This should only be implemented if del obj.name is meaningful for the object\n",
    "\n",
    "object.__getattribute__(self, name):\n",
    "\n",
    "    1. only for new-style classes\n",
    "    2. Called UNConditionally to implement attribute accesses for instances of the class. \n",
    "    3. If the class also defines __getattr__(), the latter will NOT be called \n",
    "       unless __getattribute__() either calls it explicitly or \n",
    "       raises an AttributeError. \n",
    "    4. This method should return the (computed) attribute value or raise an AttributeError exception. \n",
    "    5. In order to avoid infinite recursion in this method, its implementation should \n",
    "       always call the base class method with the same name to access any attributes it needs, \n",
    "       for example, \n",
    "       \n",
    "           object.__getattribute__(self, name)\n",
    "           \n",
    "    6. This method may still be bypassed when looking up special methods \n",
    "       as the result of implicit invocation via language syntax or built-in functions. \n",
    "       See:\n",
    "          Special method lookup for new-style classes.\n",
    "\"\"\"\n",
    "print"
   ]
  },
  {
   "cell_type": "code",
   "execution_count": 4,
   "metadata": {
    "collapsed": false
   },
   "outputs": [
    {
     "name": "stdout",
     "output_type": "stream",
     "text": [
      "v1 v2 11\n",
      "<type 'exceptions.AttributeError'> \n"
     ]
    }
   ],
   "source": [
    "class MyClass(object):\n",
    "\n",
    "    def __init__(self):\n",
    "        # prevents infinite recursion from self.data = {'a': 'v1', 'b': 'v2'}\n",
    "        # as now we have __setattr__, which will call \n",
    "        #\n",
    "        #     __getattr__ \n",
    "        #\n",
    "        # when the line \n",
    "        #\n",
    "        #     self.data[k] \n",
    "        #\n",
    "        # tries to access \n",
    "        # \n",
    "        #     self.data\n",
    "        # \n",
    "        # won't find it in the instance dictionary \n",
    "        # and return self.data[k] will in turn call __getattr__\n",
    "        # for the same reason and so on.... \n",
    "        # so we manually set data initially\n",
    "        super(MyClass, self).__setattr__('data', {'a': 'v1', 'b': 'v2'})\n",
    "\n",
    "    def __setattr__(self, k, v):\n",
    "        self.data[k] = v\n",
    "\n",
    "    def __getattr__(self, k):\n",
    "        # we don't need a special call to super here because getattr is only \n",
    "        # called when an attribute is NOT found in the instance's dictionary\n",
    "        try:\n",
    "            return self.data[k]\n",
    "        except KeyError:\n",
    "            raise AttributeError\n",
    "            \n",
    "ob = MyClass()\n",
    "ob.c = 11\n",
    "print ob.a, ob.b, ob.c\n",
    "try:\n",
    "    ob.d\n",
    "except Exception as e:\n",
    "    print type(e), e"
   ]
  },
  {
   "cell_type": "code",
   "execution_count": 22,
   "metadata": {
    "collapsed": false
   },
   "outputs": [
    {
     "name": "stdout",
     "output_type": "stream",
     "text": [
      "1 __init__\n",
      "2 __setattr__\n",
      "3 __getattr__ <__main__.MyClass object at 0x0000000003A3EB70> {}\n",
      "STOP calling __getattr__\n"
     ]
    },
    {
     "ename": "TypeError",
     "evalue": "string indices must be integers, not str",
     "output_type": "error",
     "traceback": [
      "\u001b[1;31m---------------------------------------------------------------------------\u001b[0m",
      "\u001b[1;31mTypeError\u001b[0m                                 Traceback (most recent call last)",
      "\u001b[1;32m<ipython-input-22-06c2a9c669fe>\u001b[0m in \u001b[0;36m<module>\u001b[1;34m()\u001b[0m\n\u001b[0;32m     22\u001b[0m         \u001b[0mself\u001b[0m\u001b[1;33m.\u001b[0m\u001b[0mdata\u001b[0m\u001b[1;33m[\u001b[0m\u001b[0mk\u001b[0m\u001b[1;33m]\u001b[0m \u001b[1;33m=\u001b[0m \u001b[0mv\u001b[0m \u001b[1;31m# call __getattr__\u001b[0m\u001b[1;33m\u001b[0m\u001b[0m\n\u001b[0;32m     23\u001b[0m \u001b[1;33m\u001b[0m\u001b[0m\n\u001b[1;32m---> 24\u001b[1;33m \u001b[0mob\u001b[0m \u001b[1;33m=\u001b[0m \u001b[0mMyClass\u001b[0m\u001b[1;33m(\u001b[0m\u001b[1;33m)\u001b[0m\u001b[1;33m\u001b[0m\u001b[0m\n\u001b[0m\u001b[0;32m     25\u001b[0m \u001b[0mob\u001b[0m\u001b[1;33m.\u001b[0m\u001b[0mc\u001b[0m \u001b[1;33m=\u001b[0m \u001b[1;36m11\u001b[0m\u001b[1;33m\u001b[0m\u001b[0m\n",
      "\u001b[1;32m<ipython-input-22-06c2a9c669fe>\u001b[0m in \u001b[0;36m__init__\u001b[1;34m(self)\u001b[0m\n\u001b[0;32m      7\u001b[0m         \u001b[0mMyClass\u001b[0m\u001b[1;33m.\u001b[0m\u001b[0mCOUNT\u001b[0m \u001b[1;33m+=\u001b[0m \u001b[1;36m1\u001b[0m\u001b[1;33m\u001b[0m\u001b[0m\n\u001b[0;32m      8\u001b[0m         \u001b[1;32mprint\u001b[0m \u001b[0mMyClass\u001b[0m\u001b[1;33m.\u001b[0m\u001b[0mCOUNT\u001b[0m\u001b[1;33m,\u001b[0m \u001b[1;34m'__init__'\u001b[0m\u001b[1;33m\u001b[0m\u001b[0m\n\u001b[1;32m----> 9\u001b[1;33m         \u001b[0mself\u001b[0m\u001b[1;33m.\u001b[0m\u001b[0mdata\u001b[0m \u001b[1;33m=\u001b[0m \u001b[1;33m{\u001b[0m\u001b[1;34m'a'\u001b[0m\u001b[1;33m:\u001b[0m \u001b[1;34m'v1'\u001b[0m\u001b[1;33m,\u001b[0m \u001b[1;34m'b'\u001b[0m\u001b[1;33m:\u001b[0m \u001b[1;34m'v2'\u001b[0m\u001b[1;33m}\u001b[0m \u001b[1;31m# call __setattr__\u001b[0m\u001b[1;33m\u001b[0m\u001b[0m\n\u001b[0m\u001b[0;32m     10\u001b[0m \u001b[1;33m\u001b[0m\u001b[0m\n\u001b[0;32m     11\u001b[0m     \u001b[1;32mdef\u001b[0m \u001b[0m__getattr__\u001b[0m\u001b[1;33m(\u001b[0m\u001b[0mself\u001b[0m\u001b[1;33m,\u001b[0m \u001b[0mattr\u001b[0m\u001b[1;33m)\u001b[0m\u001b[1;33m:\u001b[0m\u001b[1;33m\u001b[0m\u001b[0m\n",
      "\u001b[1;32m<ipython-input-22-06c2a9c669fe>\u001b[0m in \u001b[0;36m__setattr__\u001b[1;34m(self, k, v)\u001b[0m\n\u001b[0;32m     20\u001b[0m         \u001b[0mMyClass\u001b[0m\u001b[1;33m.\u001b[0m\u001b[0mCOUNT\u001b[0m \u001b[1;33m+=\u001b[0m \u001b[1;36m1\u001b[0m\u001b[1;33m\u001b[0m\u001b[0m\n\u001b[0;32m     21\u001b[0m         \u001b[1;32mprint\u001b[0m \u001b[0mMyClass\u001b[0m\u001b[1;33m.\u001b[0m\u001b[0mCOUNT\u001b[0m\u001b[1;33m,\u001b[0m \u001b[1;34m'__setattr__'\u001b[0m\u001b[1;33m\u001b[0m\u001b[0m\n\u001b[1;32m---> 22\u001b[1;33m         \u001b[0mself\u001b[0m\u001b[1;33m.\u001b[0m\u001b[0mdata\u001b[0m\u001b[1;33m[\u001b[0m\u001b[0mk\u001b[0m\u001b[1;33m]\u001b[0m \u001b[1;33m=\u001b[0m \u001b[0mv\u001b[0m \u001b[1;31m# call __getattr__\u001b[0m\u001b[1;33m\u001b[0m\u001b[0m\n\u001b[0m\u001b[0;32m     23\u001b[0m \u001b[1;33m\u001b[0m\u001b[0m\n\u001b[0;32m     24\u001b[0m \u001b[0mob\u001b[0m \u001b[1;33m=\u001b[0m \u001b[0mMyClass\u001b[0m\u001b[1;33m(\u001b[0m\u001b[1;33m)\u001b[0m\u001b[1;33m\u001b[0m\u001b[0m\n",
      "\u001b[1;32m<ipython-input-22-06c2a9c669fe>\u001b[0m in \u001b[0;36m__getattr__\u001b[1;34m(self, attr)\u001b[0m\n\u001b[0;32m     15\u001b[0m             \u001b[1;32mreturn\u001b[0m \u001b[1;34m'STOP calling __getattr__'\u001b[0m\u001b[1;33m\u001b[0m\u001b[0m\n\u001b[0;32m     16\u001b[0m         \u001b[1;32mprint\u001b[0m \u001b[0mMyClass\u001b[0m\u001b[1;33m.\u001b[0m\u001b[0mCOUNT\u001b[0m\u001b[1;33m,\u001b[0m \u001b[1;34m'__getattr__'\u001b[0m\u001b[1;33m,\u001b[0m \u001b[0mself\u001b[0m\u001b[1;33m,\u001b[0m \u001b[0mself\u001b[0m\u001b[1;33m.\u001b[0m\u001b[0m__dict__\u001b[0m\u001b[1;33m\u001b[0m\u001b[0m\n\u001b[1;32m---> 17\u001b[1;33m         \u001b[1;32mreturn\u001b[0m \u001b[0mself\u001b[0m\u001b[1;33m.\u001b[0m\u001b[0mdata\u001b[0m\u001b[1;33m[\u001b[0m\u001b[0mattr\u001b[0m\u001b[1;33m]\u001b[0m \u001b[1;31m# self.data will invoke self.__getattr__ to find data => infinite recursion\u001b[0m\u001b[1;33m\u001b[0m\u001b[0m\n\u001b[0m\u001b[0;32m     18\u001b[0m \u001b[1;33m\u001b[0m\u001b[0m\n\u001b[0;32m     19\u001b[0m     \u001b[1;32mdef\u001b[0m \u001b[0m__setattr__\u001b[0m\u001b[1;33m(\u001b[0m\u001b[0mself\u001b[0m\u001b[1;33m,\u001b[0m \u001b[0mk\u001b[0m\u001b[1;33m,\u001b[0m \u001b[0mv\u001b[0m\u001b[1;33m)\u001b[0m\u001b[1;33m:\u001b[0m\u001b[1;33m\u001b[0m\u001b[0m\n",
      "\u001b[1;31mTypeError\u001b[0m: string indices must be integers, not str"
     ]
    }
   ],
   "source": [
    "\"\"\"demonstrate the recursive call\"\"\"\n",
    "class MyClass(object):\n",
    "    \n",
    "    COUNT = 0\n",
    "    \n",
    "    def __init__(self):\n",
    "        MyClass.COUNT += 1\n",
    "        print MyClass.COUNT, '__init__'\n",
    "        self.data = {'a': 'v1', 'b': 'v2'} # call __setattr__\n",
    "\n",
    "    def __getattr__(self, attr):\n",
    "        MyClass.COUNT += 1\n",
    "        if MyClass.COUNT>3:\n",
    "            print 'STOP calling __getattr__'\n",
    "            return 'STOP calling __getattr__'\n",
    "        print MyClass.COUNT, '__getattr__', self, self.__dict__\n",
    "        return self.data[attr] # self.data will invoke self.__getattr__ to find data => infinite recursion\n",
    "    \n",
    "    def __setattr__(self, k, v):\n",
    "        MyClass.COUNT += 1\n",
    "        print MyClass.COUNT, '__setattr__'\n",
    "        self.data[k] = v # call __getattr__\n",
    "        \n",
    "ob = MyClass()\n",
    "ob.c = 11"
   ]
  },
  {
   "cell_type": "code",
   "execution_count": 40,
   "metadata": {
    "collapsed": false
   },
   "outputs": [
    {
     "name": "stdout",
     "output_type": "stream",
     "text": [
      "1 __init__\n",
      "3 __setattr__ {'data': {'a': 'v1', 'b': 'v2'}}\n",
      "4 __getattr__ <__main__.MyClass object at 0x00000000038EE7B8> {'data': {'a': 'v1', 'c': 11, 'b': 'v2'}}\n",
      "5 __getattr__ <__main__.MyClass object at 0x00000000038EE7B8> {'data': {'a': 'v1', 'c': 11, 'b': 'v2'}}\n",
      "6 __getattr__ <__main__.MyClass object at 0x00000000038EE7B8> {'data': {'a': 'v1', 'c': 11, 'b': 'v2'}}\n"
     ]
    },
    {
     "data": {
      "text/plain": [
       "('v1', 'v2', 11)"
      ]
     },
     "execution_count": 40,
     "metadata": {},
     "output_type": "execute_result"
    }
   ],
   "source": [
    "\"\"\"another kind of fix\"\"\"\n",
    "class MyClass(object):\n",
    "    \n",
    "    COUNT = 0\n",
    "    \n",
    "    def __init__(self):\n",
    "        MyClass.COUNT += 1\n",
    "        print MyClass.COUNT, '__init__'\n",
    "        self.data = {'a': 'v1', 'b': 'v2'} # call __setattr__\n",
    "\n",
    "    def __getattr__(self, attr):\n",
    "        MyClass.COUNT += 1\n",
    "        print MyClass.COUNT, '__getattr__', self, self.__dict__\n",
    "        return self.data[attr] # self.data will invoke self.__getattr__ to find data => infinite recursion\n",
    "    \n",
    "    def __setattr__(self, k, v):\n",
    "        MyClass.COUNT += 1\n",
    "        if k=='data' and k not in self.__dict__:\n",
    "            self.__dict__[k]=v\n",
    "            return\n",
    "        print MyClass.COUNT, '__setattr__', self.__dict__\n",
    "        self.data[k] = v # call __getattr__\n",
    "        \n",
    "ob = MyClass()\n",
    "ob.c = 11\n",
    "ob.a, ob.b, ob.c"
   ]
  },
  {
   "cell_type": "code",
   "execution_count": null,
   "metadata": {
    "collapsed": true
   },
   "outputs": [],
   "source": []
  }
 ],
 "metadata": {
  "kernelspec": {
   "display_name": "Python 2",
   "language": "python",
   "name": "python2"
  },
  "language_info": {
   "codemirror_mode": {
    "name": "ipython",
    "version": 2
   },
   "file_extension": ".py",
   "mimetype": "text/x-python",
   "name": "python",
   "nbconvert_exporter": "python",
   "pygments_lexer": "ipython2",
   "version": "2.7.11"
  }
 },
 "nbformat": 4,
 "nbformat_minor": 0
}
