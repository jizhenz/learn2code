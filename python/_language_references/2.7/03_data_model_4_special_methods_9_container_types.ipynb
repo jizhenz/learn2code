{
 "cells": [
  {
   "cell_type": "markdown",
   "metadata": {},
   "source": [
    "### [Emulating container types](https://docs.python.org/2/reference/datamodel.html#emulating-container-types)\n",
    "\n",
    "1. The methods in this section can be defined to implement container objects. \n",
    "\n",
    "2. Containers usually are sequences (such as lists or tuples) or mappings (like dictionaries), but can represent other containers as well. \n",
    "\n",
    "The first set of methods is used either to emulate a sequence or to emulate a mapping:\n",
    "\n",
    "1. For a sequence, the allowable keys should be the integers k \n",
    "    for which 0 <= k < N where N is the length of the sequence, \n",
    "    or slice objects, which define a range of items. \n",
    "    (For backwards compatibility, the method `__getslice__()`\n",
    "    can also be defined to handle simple, but not extended slices.) \n",
    "    \n",
    "2. It is also recommended that mappings provide the methods \n",
    "    keys(), values(), items(), has_key(), get(), clear(), setdefault(), iterkeys(), itervalues(), iteritems(), pop(), popitem(), copy(), and update() \n",
    "    behaving similar to those for Python’s standard dictionary objects. \n",
    "\n",
    "3. The UserDict module provides a DictMixin class to help create those methods from a base set of \n",
    "    `__getitem__(), __setitem__(), __delitem__(), and keys()`. \n",
    "\n",
    "4. Mutable sequences should provide methods \n",
    "    append(), count(), index(), extend(), insert(), pop(), remove(), reverse() and sort(), \n",
    "    like Python standard list objects. \n",
    "\n",
    "5. Finally, sequence types should implement addition (meaning concatenation) and multiplication \n",
    "    (meaning repetition) by defining the methods \n",
    "    `__add__(), __radd__(), __iadd__(), __mul__(), __rmul__() and __imul__()`; \n",
    "    they should NOT define `__coerce__()`or other numerical operators. \n",
    "\n",
    "6. It is recommended that both mappings and sequences implement the `__contains__()` method \n",
    "    to allow efficient use of the in operator; for mappings, in should be equivalent of \n",
    "    `has_key()`; for sequences, it should search through the values. \n",
    "\n",
    "7. It is further recommended that both mappings and sequences implement the `__iter__()` \n",
    "    method to allow efficient iteration through the container; for mappings, `__iter__()` \n",
    "    should be the same as iterkeys(); for sequences, it should iterate through the values."
   ]
  },
  {
   "cell_type": "markdown",
   "metadata": {
    "collapsed": false
   },
   "source": [
    "<tr><td>`object.__len__(self)`</td><td>`len()`</td></tr>\n",
    "<tr><td>`object.__getitem__(self, key)`</td><td>`self[key]`</td></tr>\n",
    "<tr><td>`object.__missing__(self, key)`</td><td>`self[key]`</td></tr>\n",
    "<tr><td>`object.__setitem__(self, key, value)`</td><td>`self[key] = value`</td></tr>\n",
    "<tr><td>`object.__delitem__(self, key)` </td><td>`del self[key]` </td></tr>\n",
    "<tr><td>`object.__iter__(self)` </td><td>`iter()` </td></tr>\n",
    "<tr><td>`object.__reversed__(self)` </td><td>`reversed()` </td></tr>\n",
    "<tr><td>`object.__contains__(self, item) `</td><td>`in `</td></tr>\n"
   ]
  },
  {
   "cell_type": "markdown",
   "metadata": {},
   "source": [
    "##### For Sequence Types"
   ]
  },
  {
   "cell_type": "markdown",
   "metadata": {
    "collapsed": false
   },
   "source": [
    "<tr><td>`object.__getslice__(self, i, j) `</td><td>`self[i:j] `</td></tr>\n",
    "<tr><td>`object.__setslice__(self, i, j, sequence) `</td><td>`self[i:j] = ... `</td></tr>\n",
    "<tr><td>`object.__delslice__(self, i, j) `</td><td>`del self[i:j] `</td></tr>\n"
   ]
  },
  {
   "cell_type": "code",
   "execution_count": 6,
   "metadata": {
    "collapsed": false
   },
   "outputs": [
    {
     "name": "stdout",
     "output_type": "stream",
     "text": [
      "\n"
     ]
    }
   ],
   "source": [
    "\"\"\"\n",
    "<tr><td>` `</td><td>` `</td></tr>\n",
    "<tr><td>` `</td><td>` `</td></tr>\n",
    "<tr><td>` `</td><td>` `</td></tr>\n",
    "<tr><td>` `</td><td>` `</td></tr>\n",
    "<tr><td>` `</td><td>` `</td></tr>\n",
    "<tr><td>` `</td><td>` `</td></tr>\n",
    "<tr><td>` `</td><td>` `</td></tr>\n",
    "<tr><td>` `</td><td>` `</td></tr>\n",
    "<tr><td>` `</td><td>` `</td></tr>\n",
    "<tr><td>` `</td><td>` `</td></tr>\n",
    "<tr><td>` `</td><td>` `</td></tr>\n",
    "<tr><td>` `</td><td>` `</td></tr>\n",
    "<tr><td>` `</td><td>` `</td></tr>\n",
    "<tr><td>` `</td><td>` `</td></tr>\n",
    "<tr><td>` `</td><td>` `</td></tr>\n",
    "<tr><td>` `</td><td>` `</td></tr>\n",
    "<tr><td>` `</td><td>` `</td></tr>\n",
    "\"\"\"\n",
    "\n",
    "print"
   ]
  },
  {
   "cell_type": "code",
   "execution_count": null,
   "metadata": {
    "collapsed": true
   },
   "outputs": [],
   "source": []
  }
 ],
 "metadata": {
  "kernelspec": {
   "display_name": "Python 2",
   "language": "python",
   "name": "python2"
  },
  "language_info": {
   "codemirror_mode": {
    "name": "ipython",
    "version": 2
   },
   "file_extension": ".py",
   "mimetype": "text/x-python",
   "name": "python",
   "nbconvert_exporter": "python",
   "pygments_lexer": "ipython2",
   "version": "2.7.11"
  }
 },
 "nbformat": 4,
 "nbformat_minor": 0
}
