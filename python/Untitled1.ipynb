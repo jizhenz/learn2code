{
 "cells": [
  {
   "cell_type": "markdown",
   "metadata": {},
   "source": [
    "## Install/Build Tips"
   ]
  },
  {
   "cell_type": "markdown",
   "metadata": {},
   "source": [
    "### 1. Install lxml\n",
    "\n",
    "- Method 1\n",
    "\n",
    "    - Go to http://www.lfd.uci.edu/~gohlke/pythonlibs/ to download a precompiled binary, e.g. lxml-3.4.4-cp35-none-win_amd64.whl\n",
    "    - activate py34\n",
    "    - [py34] C:\\Users\\jizhen>pip install C:\\Users\\jizhen\\Downloads\\lxml-3.4.4-cp34-none-win_amd64.whl\n",
    "\n",
    "- Method 2:\n",
    "    \n",
    "    - set VS100COMNTOOLS=%VS140COMNTOOLS%\n",
    "    - set STATICBUILD=true\n",
    "    - pip install lxml\n",
    "    - [failed for 64 bit - dependent libs downloaded are 32 bits, don't know why]\n",
    "    \n",
    "- Method 3:\n",
    "\n",
    "    - [Install lxml on windows (on a virtualenv)](http://www.laurivan.com/install-lxml-on-windows-on-a-virtualenv/)\n"
   ]
  },
  {
   "cell_type": "code",
   "execution_count": null,
   "metadata": {
    "collapsed": true
   },
   "outputs": [],
   "source": []
  }
 ],
 "metadata": {
  "kernelspec": {
   "display_name": "Python 3",
   "language": "python",
   "name": "python3"
  },
  "language_info": {
   "codemirror_mode": {
    "name": "ipython",
    "version": 3
   },
   "file_extension": ".py",
   "mimetype": "text/x-python",
   "name": "python",
   "nbconvert_exporter": "python",
   "pygments_lexer": "ipython3",
   "version": "3.4.3"
  }
 },
 "nbformat": 4,
 "nbformat_minor": 0
}
