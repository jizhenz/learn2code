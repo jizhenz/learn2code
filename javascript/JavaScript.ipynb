{
 "cells": [
  {
   "cell_type": "markdown",
   "metadata": {},
   "source": [
    "# JavaScript\n",
    "\n",
    "## What is JavaScript?\n",
    "\n",
    "From [wikipedia](https://en.wikipedia.org/wiki/JavaScript)\n",
    "\n",
    "- **JavaScript** is a high-level, dynamic, untyped, and interpreted programming language. \n",
    "- It has been standardized in the **ECMAScript** language specification.\n",
    "- Alongside **HTML** and **CSS**, it is one of the three essential technologies of World Wide Web content production; the majority of websites employ it and it is supported by all modern web browsers without plug-ins.\n",
    "- JavaScript is prototype-based with first-class functions, making it a multi-paradigm language, supporting object-oriented, imperative, and functional programming styles.\n",
    "- It has an API for working with text, arrays, dates and regular expressions, but does **not** include any I/O, such as networking, storage or graphics facilities, relying for these upon the host environment in which it is embedded.\n",
    "- Despite some naming, syntactic, and standard library similarities, JavaScript and Java are otherwise **unrelated** and have very different semantics. The syntax of JavaScript is actually derived from **C**, while the semantics and design are influenced by the **Self** and **Scheme** programming languages.\n",
    "- JavaScript is also used in environments that are **not** web-based, such as PDF documents, site-specific browsers, and desktop widgets. \n",
    "- Newer and faster JavaScript virtual machines (**VMs**) and platforms built upon them have also increased the popularity of JavaScript for **server-side** web applications. \n",
    "- On the client side, JavaScript has been traditionally implemented as an interpreted language, but more recent browsers perform just-in-time compilation. \n",
    "- It is also used in **game** development, the creation of desktop and mobile applications, and server-side network programming with runtime environments such as **Node.js**.\n",
    "\n",
    "## History\n",
    "\n",
    "- JavaScript was originally developed in 10 days in May 1995 by **Brendan Eich**, while he was working for Netscape. \n",
    "- It was developed under the name **Mocha**, officially called **LiveScript** when first shipped in beta releases of Netscape Navigator 2.0 in September 1995, but renamed **JavaScript** when deployed in the Netscape Navigator 2.0B3.\n",
    "- Netscape introduced a language for server-side scripting with Netscape Enterprise Server in December, 1995. Since the mid-2000s, there has been a resurgence of server-side JavaScript implementations, such as Node.js\n",
    "- Microsoft Windows script technologies including VBScript and JScript were released in 1996. JScript, a reverse-engineered implementation of Netscape's JavaScript, was released on July 16, 1996 and was part of Internet Explorer 3, as well as being available server-side in Internet Information Server.\n",
    "- Standardization: \n",
    "    - 1996/11, Netscape submitted JavaScript to **Ecma International** for consideration as an industry standard. \n",
    "    - 1997/06, 1st edition of ECMA-262 \n",
    "    - 1998/06, 2nd edition of ECMA-262: adpted to ISO/IEC-16262 standard\n",
    "    - 1999/12: 3rd edition of ECMA-262\n",
    "    - 4th edition of ECMAScript was never completed.\n",
    "    - 2009/12, 5th edition of ECMAScript\n",
    "    - 2015/06, 6th edition\n",
    "- Later developments\n",
    "    - JavaScript has become one of the most popular programming languages on the Web. \n",
    "    - Initially, many professional programmers denigrated this language.\n",
    "    - Ajax returned JavaScript to the spotlight. The result was \n",
    "        - a proliferation of comprehensive frameworks and libraries, \n",
    "        - improved JavaScript programming practices, and \n",
    "        - increased usage of JavaScript outside Web browsers, as seen by the proliferation of server-side JavaScript platforms.\n",
    "    - In 2009/01, the **CommonJS** project was founded for specifying a common standard library mainly for JavaScript development outside the browser.\n",
    "    - With the rise of the single-page web app and JavaScript-heavy sites, it is increasingly being used as a compile target for **source-to-source** compilers from both dynamic languages and static languages. \n",
    "        - In particular, **Emscripten** and highly optimized **JIT** compilers, in tandem with asm.js that is friendly to **AOT** compilers like **OdinMonkey**, have enabled C and C++ programs to be compiled into JavaScript and execute at near-native speeds, causing JavaScript to be considered the \"**assembly language of the web**\", according to its creator and others.\n",
    "        \n",
    "#### Notes:\n",
    "\n",
    "- [**CommonJS**](https://en.wikipedia.org/wiki/CommonJS) is a project with the goal of specifying an ecosystem for JavaScript outside the browser (for example, on the server or for native desktop applications).\n",
    "- [**source-to-source** compilers](https://en.wikipedia.org/wiki/Source-to-source_compiler): also called transcompiler or transpiler, is a type of compiler that takes the source code of a program written in one programming language as its input and produces the equivalent source code in another programming language.\n",
    "- [**Emscripten**](https://en.wikipedia.org/wiki/Emscripten) is a type of source-to-source compiler that runs as a back end to the LLVM compiler and produces a subset of JavaScript known as asm.js.\n",
    "    - Emscripten has been used to port, among other things, Unreal Engine 3, SQLite, MeshLab, and Bullet physics.\n",
    "- The [**LLVM**](https://en.wikipedia.org/wiki/LLVM) compiler infrastructure project (formerly **Low Level Virtual Machine**) is a compiler infrastructure designed to be a set of reusable libraries with well-defined interfaces.\n",
    "    - LLVM is written in C++ and is designed for compile-time, link-time, run-time, and \"idle-time\" optimization of programs written in arbitrary programming languages. \n",
    "    - Originally implemented for C and C++, the language-agnostic design of LLVM has since spawned a wide variety of front ends - languages with compilers that use LLVM include: \n",
    "        - Common Lisp, \n",
    "        - ActionScript, \n",
    "        - Ada, \n",
    "        - D, \n",
    "        - Fortran, \n",
    "        - OpenGL Shading Language, \n",
    "        - Go, \n",
    "        - Haskell, \n",
    "        - Java bytecode, \n",
    "        - Julia, \n",
    "        - Objective-C, \n",
    "        - Swift, \n",
    "        - Python, \n",
    "        - R, \n",
    "        - Ruby, \n",
    "        - Rust, \n",
    "        - Scala, and \n",
    "        - Lua.\n",
    "- [**asm.js**](https://en.wikipedia.org/wiki/Asm.js) is an intermediate programming language designed to allow computer software written in languages such as C to be run as web applications while maintaining performance characteristics considerably better than standard JavaScript, the typical language used for such applications.\n",
    "    - asm.js consists of a strict subset of JavaScript, into which code written in statically-typed languages with manual memory management (such as C) is translated by a source-to-source compiler such as Emscripten (based on LLVM).\n",
    "    - Performance is improved by limiting language features to those amenable to ahead-of-time optimization and other performance improvements.\n",
    "    - Mozilla Firefox was the first web browser to implement asm.js-specific optimizations, starting with Firefox 22.\n",
    "- In computing, [**just-in-time** (**JIT**) compilation](https://en.wikipedia.org/wiki/Just-in-time_compilation), also known as dynamic translation, is compilation done during execution of a program – at run time – rather than prior to execution.[1] Most often this consists of translation to machine code, which is then executed directly, but can also refer to translation to another format.\n",
    "    - JIT compilation is a combination of the two traditional approaches to translation to machine code – [**ahead-of-time compilation (AOT)**](https://en.wikipedia.org/wiki/Ahead-of-time_compilation), and interpretation – and combines some advantages and drawbacks of both.\n",
    "- [**Ahead-of-time (AOT)** compilation]((https://en.wikipedia.org/wiki/Ahead-of-time_compilation)) is the act of compiling a high-level programming language such as C or C++, or an intermediate language such as Java bytecode or .NET Common Intermediate Language (CIL) code, into a native (system-dependent) machine code with the intention of executing the resulting binary file natively.\n",
    "- [**OdinMonkey**](https://en.wikipedia.org/wiki/SpiderMonkey_&#40;software&#41;#OdinMonkey) is the name of Mozilla's new optimization module for asm.js, an easily compilable subset of JavaScript. OdinMonkey itself is not a JIT compiler, it uses the current JIT compiler. It's included with Firefox from release 22.\n",
    "\n",
    "## Features\n",
    "\n",
    "- **Imperative and structured**\n",
    "    - JavaScript supports much of the structured programming syntax from C (e.g., if statements, while loops, switch statements, do while loops, etc.). \n",
    "    - One partial exception is scoping: JavaScript originally had only function scoping with var. \n",
    "    - ECMAScript 2015 adds a let keyword for block scoping, meaning JavaScript now has both function and block scoping. \n",
    "    - Like C, JavaScript makes a distinction between expressions and statements. \n",
    "    - One syntactic difference from C is automatic semicolon insertion, which allows the semicolons that would normally terminate statements to be omitted.\n",
    "    \n",
    "- **Dynamic**\n",
    "    - Dynamic typing\n",
    "        \n",
    "        As in most scripting languages, types are associated with values, not with variables. For example, a variable x could be bound to a number, then later rebound to a string. JavaScript supports various ways to test the type of an object, including duck typing.\n",
    "        \n",
    "    - Object-based\n",
    "        \n",
    "        JavaScript is almost entirely object-based. JavaScript objects are associative arrays, augmented with prototypes (see below). Object property names are string keys. They support two equivalent syntaxes: \n",
    "        - **dot** notation (obj.x = 10) and \n",
    "        - **bracket** notation (obj['x'] = 10). \n",
    "        \n",
    "        Properties and their values can be added, changed, or deleted at run-time. Most properties of an object (and those on its prototype inheritance chain) can be enumerated using a for...in loop. JavaScript has a small number of built-in objects such as Function and Date.\n",
    "        \n",
    "    - Run-time evaluation\n",
    "        \n",
    "        JavaScript includes an eval function that can execute statements provided as strings at run-time.\n",
    "\n",
    "- **Functional** \n",
    "    - First-class functions\n",
    "        - Functions are first-class; they are objects themselves. As such, they have properties and methods, such as .call() and .bind().\n",
    "        - A nested function is a function defined within another function. It is created each time the outer function is invoked. In addition, each created function forms a lexical closure: the lexical scope of the outer function, including any constants, local variables and argument values, becomes part of the internal state of each inner function object, even after execution of the outer function concludes. \n",
    "        - JavaScript also supports anonymous functions.\n",
    "- **Prototype-based object-oriented programming**\n",
    "    - Prototypes\n",
    "        - JavaScript uses prototypes where many other object-oriented languages use classes for inheritance. It is possible to simulate many class-based features with prototypes in JavaScript.\n",
    "    - Functions as object constructors\n",
    "        - Functions double as object constructors along with their typical role. Prefixing a function call with new will create an instance of a prototype, inheriting properties and methods from the constructor (including properties from the Object prototype).\n",
    "        - ECMAScript 5 offers the Object.create method, allowing explicit creation of an instance without automatically inheriting from the Object prototype (older environments can assign the prototype to null).\n",
    "        - The constructor's prototype property determines the object used for the new object's internal prototype. New methods can be added by modifying the prototype of the function used as a constructor. \n",
    "        - JavaScript's built-in constructors, such as Array or Object, also have prototypes that can be modified. While it is possible to modify the Object prototype, it is generally considered bad practice because most objects in JavaScript will inherit methods and properties from the Object prototype and they may not expect the prototype to be modified.\n",
    "    - Functions as methods\n",
    "        - Unlike many object-oriented languages, there is no distinction between a function definition and a method definition.\n",
    "        - Rather, the distinction occurs during function calling; when a function is called as a method of an object, the function's local this keyword is bound to that object for that invocation.\n",
    "- **Implicit and explicit delegation**\n",
    "    - JavaScript is a delegation language.\n",
    "    - Functions as Roles (Traits and Mixins)\n",
    "        - JavaScript natively supports various function-based implementations of **Role patterns** like **Traits** and **Mixins**.\n",
    "        - Such a function defines additional behavior by at least one method bound to the this keyword within its function body.\n",
    "        - A Role then has to be delegated explicitly via call or apply to objects that need to feature additional behavior that is not shared via the prototype chain.\n",
    "    - Object Composition and Inheritance\n",
    "        - Whereas explicit function-based delegation does cover composition in JavaScript, implicit delegation already happens every time the prototype chain is walked in order to, e.g., find a method that might be related to but is not directly owned by an object. Once the method is found it gets called within this object's context. Thus inheritance in JavaScript is covered by a delegation automatism that is bound to the prototype property of constructor functions.\n",
    "- **Miscellaneous**\n",
    "    - Run-time environment\n",
    "        - JavaScript typically relies on a run-time environment (e.g., a Web browser) to provide objects and methods by which scripts can interact with the environment (e.g., a webpage DOM). It also relies on the run-time environment to provide the ability to include/import scripts (e.g., HTML &#60;script&#62; elements). This is not a language feature per se, but it is common in most JavaScript implementations.\n",
    "        - JavaScript processes messages from a queue one at a time. Upon loading a new message, JavaScript calls a function associated with that message, which creates a call stack frame (the function's arguments and local variables). The call stack shrinks and grows based on the function's needs. Upon function completion, when the stack is empty, JavaScript proceeds to the next message in the queue. This is called the event loop, described as \"run to completion\" because each message is fully processed before the next message is considered. However, the language's concurrency model describes the event loop as non-blocking: program input/output is performed using events and callback functions. This means, for instance, that JavaScript can process a mouse click while waiting for a database query to return information.\n",
    "    - Variadic functions\n",
    "        - An indefinite number of parameters can be passed to a function. The function can access them through formal parameters and also through the local arguments object. Variadic functions can also be created by using the bind method.\n",
    "    - Array and object literals\n",
    "        - Like many scripting languages, arrays and objects (associative arrays in other languages) can each be created with a succinct shortcut syntax. In fact, these literals form the basis of the JSON data format.\n",
    "    - Regular expressions\n",
    "        - JavaScript also supports regular expressions in a manner similar to Perl, which provide a concise and powerful syntax for text manipulation that is more sophisticated than the built-in string functions.\n",
    "- **Vendor-specific extensions**\n",
    "    - JavaScript is officially managed by Mozilla Foundation, and new language features are added periodically. However, only some JavaScript engines support these new features:\n",
    "        - property getter and setter functions (supported by WebKit, Gecko, Opera, ActionScript, and Rhino)\n",
    "        - conditional catch clauses\n",
    "        - iterator protocol (adopted from Python)\n",
    "        - shallow generators-coroutines (adopted from Python)\n",
    "        - array comprehensions and generator expressions (adopted from Python)\n",
    "        - proper block scope via the let keyword\n",
    "        - array and object destructuring (limited form of pattern matching)\n",
    "        - concise function expressions (function(args) expr)\n",
    "        - ECMAScript for XML (E4X), an extension that adds native XML support to ECMAScript (unsupported in Firefox since version 21)\n",
    "        \n",
    "## Syntax"
   ]
  },
  {
   "cell_type": "code",
   "execution_count": 5,
   "metadata": {
    "collapsed": false
   },
   "outputs": [
    {
     "name": "stdout",
     "output_type": "stream",
     "text": [
      "Hello World!\n",
      "2\n",
      "1\n"
     ]
    },
    {
     "data": {
      "text/plain": [
       "undefined"
      ]
     },
     "execution_count": 5,
     "metadata": {},
     "output_type": "execute_result"
    }
   ],
   "source": [
    "var x;     // defines the variable x, the special value “undefined” \n",
    "           // (not to be confused with an undefined value) is assigned to it by default\n",
    "var y = 2; // defines the variable y and assigns the value of 2 to it\n",
    "console.log(\"Hello World!\");\n",
    "console.log(y);\n",
    "x = 1;\n",
    "console.log(x);"
   ]
  },
  {
   "cell_type": "code",
   "execution_count": 6,
   "metadata": {
    "collapsed": false
   },
   "outputs": [
    {
     "name": "stdout",
     "output_type": "stream",
     "text": [
      "120\n"
     ]
    },
    {
     "data": {
      "text/plain": [
       "undefined"
      ]
     },
     "execution_count": 6,
     "metadata": {},
     "output_type": "execute_result"
    }
   ],
   "source": [
    "// a sample recursive function\n",
    "function factorial(n) {\n",
    "    if (n == 0) {\n",
    "        return 1;\n",
    "    }\n",
    "    return n * factorial(n - 1);\n",
    "}\n",
    "console.log(factorial(5));"
   ]
  },
  {
   "cell_type": "code",
   "execution_count": 10,
   "metadata": {
    "collapsed": false
   },
   "outputs": [
    {
     "name": "stdout",
     "output_type": "stream",
     "text": [
      "1\n",
      "2\n"
     ]
    },
    {
     "data": {
      "text/plain": [
       "undefined"
      ]
     },
     "execution_count": 10,
     "metadata": {},
     "output_type": "execute_result"
    },
    {
     "name": "stdout",
     "output_type": "stream",
     "text": [
      "3\n"
     ]
    }
   ],
   "source": [
    "//Anonymous function (or lambda) syntax and closure example:\n",
    "var displayClosure = function() {\n",
    "    var count = 0;\n",
    "    return function () {\n",
    "        return ++count;\n",
    "    };\n",
    "}\n",
    "var inc = displayClosure();\n",
    "console.log(inc()); // returns 1\n",
    "console.log(inc()); // returns 2\n",
    "console.log(inc()); // returns 3\n"
   ]
  },
  {
   "cell_type": "code",
   "execution_count": 11,
   "metadata": {
    "collapsed": false
   },
   "outputs": [
    {
     "data": {
      "text/plain": [
       "6"
      ]
     },
     "execution_count": 11,
     "metadata": {},
     "output_type": "execute_result"
    }
   ],
   "source": [
    "//Variadic function demonstration (arguments is a special variable).\n",
    "var sum = function() {\n",
    "    var i, x = 0;\n",
    "    for (i = 0; i < arguments.length; ++i) {\n",
    "        x += arguments[i];\n",
    "    }\n",
    "    return x;\n",
    "}\n",
    "sum(1, 2, 3); // returns 6"
   ]
  },
  {
   "cell_type": "code",
   "execution_count": 12,
   "metadata": {
    "collapsed": false
   },
   "outputs": [
    {
     "data": {
      "text/plain": [
       "1"
      ]
     },
     "execution_count": 12,
     "metadata": {},
     "output_type": "execute_result"
    }
   ],
   "source": [
    "//Immediately-invoked function expressions allow functions to pass around variables under their own closures.\n",
    "var v;\n",
    "v = 1;\n",
    "var getValue = (function(v) {\n",
    "  return function() {return v;};\n",
    "})(v);\n",
    "\n",
    "v = 2;\n",
    "\n",
    "getValue(); // 1"
   ]
  },
  {
   "cell_type": "code",
   "execution_count": 15,
   "metadata": {
    "collapsed": false
   },
   "outputs": [
    {
     "name": "stdout",
     "output_type": "stream",
     "text": [
      "LCMCalculator: a = 28, b = 56, gcd = 28, lcm = 56\n"
     ]
    },
    {
     "data": {
      "text/plain": [
       "undefined"
      ]
     },
     "execution_count": 15,
     "metadata": {},
     "output_type": "execute_result"
    },
    {
     "name": "stdout",
     "output_type": "stream",
     "text": [
      "LCMCalculator: a = 21, b = 56, gcd = 7, lcm = 168\n",
      "LCMCalculator: a = 25, b = 55, gcd = 5, lcm = 275\n",
      "LCMCalculator: a = 22, b = 58, gcd = 2, lcm = 638\n"
     ]
    }
   ],
   "source": [
    "/* Finds the lowest common multiple (LCM) of two numbers */\n",
    "function LCMCalculator(x, y) { // constructor function\n",
    "    var checkInt = function (x) { // inner function\n",
    "        if (x % 1 !== 0) {\n",
    "            throw new TypeError(x + \" is not an integer\"); // throw an exception\n",
    "        }\n",
    "        return x;\n",
    "    };\n",
    "    this.a = checkInt(x)\n",
    "    //   semicolons   ^^^^  are optional, a newline is enough\n",
    "    this.b = checkInt(y);\n",
    "}\n",
    "// The prototype of object instances created by a constructor is\n",
    "// that constructor's \"prototype\" property.\n",
    "LCMCalculator.prototype = { // object literal\n",
    "    constructor: LCMCalculator, // when reassigning a prototype, set the constructor property appropriately\n",
    "    gcd: function () { // method that calculates the greatest common divisor\n",
    "        // Euclidean algorithm:\n",
    "        var a = Math.abs(this.a), b = Math.abs(this.b), t;\n",
    "        if (a < b) {\n",
    "            // swap variables\n",
    "            t = b;\n",
    "            b = a;\n",
    "            a = t;\n",
    "        }\n",
    "        while (b !== 0) {\n",
    "            t = b;\n",
    "            b = a % b;\n",
    "            a = t;\n",
    "        }\n",
    "        // Only need to calculate GCD once, so \"redefine\" this method.\n",
    "        // (Actually not redefinition—it's defined on the instance itself,\n",
    "        // so that this.gcd refers to this \"redefinition\" instead of LCMCalculator.prototype.gcd.\n",
    "        // Note that this leads to a wrong result if the LCMCalculator object members \"a\" and/or \"b\" are altered afterwards.)\n",
    "        // Also, 'gcd' === \"gcd\", this['gcd'] === this.gcd\n",
    "        this['gcd'] = function () {\n",
    "            return a;\n",
    "        };\n",
    "        return a;\n",
    "    },\n",
    "    // Object property names can be specified by strings delimited by double (\") or single (') quotes.\n",
    "    lcm : function () {\n",
    "        // Variable names don't collide with object properties, e.g., |lcm| is not |this.lcm|.\n",
    "        // not using |this.a * this.b| to avoid FP precision issues\n",
    "        var lcm = this.a / this.gcd() * this.b;\n",
    "        // Only need to calculate lcm once, so \"redefine\" this method.\n",
    "        this.lcm = function () {\n",
    "            return lcm;\n",
    "        };\n",
    "        return lcm;\n",
    "    },\n",
    "    toString: function () {\n",
    "        return \"LCMCalculator: a = \" + this.a + \", b = \" + this.b;\n",
    "    }\n",
    "};\n",
    "\n",
    "// Define generic output function; this implementation only works for Web browsers\n",
    "function output(x) {\n",
    "    console.log(x);\n",
    "}\n",
    "\n",
    "// Note: Array's map() and forEach() are defined in JavaScript 1.6.\n",
    "// They are used here to demonstrate JavaScript's inherent functional nature.\n",
    "[[25, 55], [21, 56], [22, 58], [28, 56]].map(function (pair) { // array literal + mapping function\n",
    "    return new LCMCalculator(pair[0], pair[1]);\n",
    "}).sort(function (a, b) { // sort with this comparative function\n",
    "    return a.lcm() - b.lcm();\n",
    "}).forEach(function (obj) {\n",
    "    output(obj + \", gcd = \" + obj.gcd() + \", lcm = \" + obj.lcm());\n",
    "});"
   ]
  },
  {
   "cell_type": "markdown",
   "metadata": {},
   "source": [
    "## Use in web pages"
   ]
  },
  {
   "cell_type": "markdown",
   "metadata": {},
   "source": [
    "<!DOCTYPE html>\n",
    "\n",
    "<meta charset=\"utf-8\">\n",
    "<title>Minimal Example</title>\n",
    "\n",
    "<h1 id=\"header\">This is JavaScript</h1>\n",
    "\n",
    "<script>\n",
    "    document.body.appendChild(document.createTextNode('Hello World!'));\n",
    "\n",
    "    var h1 = document.getElementById('header'); // holds a reference to the\n",
    "<h1> tag\n",
    "    h1 = document.getElementsByTagName('h1')[0]; // accessing the same\n",
    "<h1> element\n",
    "</script>\n",
    "\n",
    "<noscript>Your browser either does not support JavaScript, or has it turned off.</noscript>"
   ]
  },
  {
   "cell_type": "markdown",
   "metadata": {},
   "source": []
  }
 ],
 "metadata": {
  "kernelspec": {
   "display_name": "Javascript (Node.js)",
   "language": "javascript",
   "name": "javascript"
  },
  "language_info": {
   "file_extension": "js",
   "mimetype": "application/javascript",
   "name": "javascript",
   "version": "5.1.0"
  }
 },
 "nbformat": 4,
 "nbformat_minor": 0
}
